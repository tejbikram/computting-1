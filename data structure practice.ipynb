{
 "cells": [
  {
   "cell_type": "markdown",
   "metadata": {},
   "source": [
    "  - To initiate a blanck list"
   ]
  },
  {
   "cell_type": "code",
   "execution_count": 2,
   "metadata": {},
   "outputs": [],
   "source": [
    "l =[]"
   ]
  },
  {
   "cell_type": "markdown",
   "metadata": {},
   "source": [
    "  - To find the type of the list"
   ]
  },
  {
   "cell_type": "code",
   "execution_count": 3,
   "metadata": {},
   "outputs": [
    {
     "data": {
      "text/plain": [
       "list"
      ]
     },
     "execution_count": 3,
     "metadata": {},
     "output_type": "execute_result"
    }
   ],
   "source": [
    "type(l)"
   ]
  },
  {
   "cell_type": "markdown",
   "metadata": {},
   "source": [
    "  - To create a list from scratch"
   ]
  },
  {
   "cell_type": "code",
   "execution_count": 4,
   "metadata": {},
   "outputs": [],
   "source": [
    "L = [1,2,3,4,5,6,7,8]"
   ]
  },
  {
   "cell_type": "code",
   "execution_count": 5,
   "metadata": {},
   "outputs": [
    {
     "data": {
      "text/plain": [
       "[1, 2, 3, 4, 5, 6, 7, 8]"
      ]
     },
     "execution_count": 5,
     "metadata": {},
     "output_type": "execute_result"
    }
   ],
   "source": [
    "L"
   ]
  },
  {
   "cell_type": "code",
   "execution_count": 6,
   "metadata": {},
   "outputs": [
    {
     "name": "stdout",
     "output_type": "stream",
     "text": [
      "[1, 2, 3, 4, 5, 6, 7, 8]\n"
     ]
    }
   ],
   "source": [
    "print(L)"
   ]
  },
  {
   "cell_type": "markdown",
   "metadata": {},
   "source": [
    "  - indexing of a list"
   ]
  },
  {
   "cell_type": "code",
   "execution_count": 7,
   "metadata": {},
   "outputs": [
    {
     "data": {
      "text/plain": [
       "(1, 4, 6)"
      ]
     },
     "execution_count": 7,
     "metadata": {},
     "output_type": "execute_result"
    }
   ],
   "source": [
    "L[0],L[3],L[5]"
   ]
  },
  {
   "cell_type": "markdown",
   "metadata": {},
   "source": [
    "  - Reversing the index"
   ]
  },
  {
   "cell_type": "code",
   "execution_count": 8,
   "metadata": {},
   "outputs": [
    {
     "data": {
      "text/plain": [
       "(8, 7, 3)"
      ]
     },
     "execution_count": 8,
     "metadata": {},
     "output_type": "execute_result"
    }
   ],
   "source": [
    "L[-1],L[-2],L[-6]"
   ]
  },
  {
   "cell_type": "markdown",
   "metadata": {},
   "source": [
    "  - To find the length of list"
   ]
  },
  {
   "cell_type": "code",
   "execution_count": 9,
   "metadata": {},
   "outputs": [
    {
     "data": {
      "text/plain": [
       "8"
      ]
     },
     "execution_count": 9,
     "metadata": {},
     "output_type": "execute_result"
    }
   ],
   "source": [
    "len(L)"
   ]
  },
  {
   "cell_type": "markdown",
   "metadata": {},
   "source": [
    "  - To add the element from last"
   ]
  },
  {
   "cell_type": "code",
   "execution_count": 10,
   "metadata": {},
   "outputs": [
    {
     "data": {
      "text/plain": [
       "[1, 2, 3, 4, 5, 6, 7, 8, 15]"
      ]
     },
     "execution_count": 10,
     "metadata": {},
     "output_type": "execute_result"
    }
   ],
   "source": [
    "L.append(15)\n",
    "L"
   ]
  },
  {
   "cell_type": "code",
   "execution_count": 11,
   "metadata": {},
   "outputs": [
    {
     "name": "stdout",
     "output_type": "stream",
     "text": [
      "[1, 2, 3, 4, 5, 6, 7, 8, 15, 20]\n"
     ]
    }
   ],
   "source": [
    "L.append(20)\n",
    "print(L)"
   ]
  },
  {
   "cell_type": "markdown",
   "metadata": {},
   "source": [
    "  - To find the sum of the elements"
   ]
  },
  {
   "cell_type": "code",
   "execution_count": 12,
   "metadata": {},
   "outputs": [
    {
     "data": {
      "text/plain": [
       "71"
      ]
     },
     "execution_count": 12,
     "metadata": {},
     "output_type": "execute_result"
    }
   ],
   "source": [
    "sum(L)"
   ]
  },
  {
   "cell_type": "markdown",
   "metadata": {},
   "source": [
    "  - To find the maximum and minimum of the list"
   ]
  },
  {
   "cell_type": "code",
   "execution_count": 13,
   "metadata": {},
   "outputs": [
    {
     "data": {
      "text/plain": [
       "(20, 1)"
      ]
     },
     "execution_count": 13,
     "metadata": {},
     "output_type": "execute_result"
    }
   ],
   "source": [
    "max(L),min(L)"
   ]
  },
  {
   "cell_type": "markdown",
   "metadata": {},
   "source": [
    "  - To create a list of heterogeneous element types."
   ]
  },
  {
   "cell_type": "code",
   "execution_count": 15,
   "metadata": {},
   "outputs": [
    {
     "data": {
      "text/plain": [
       "[1, 2, 3.0, 4, 5, 6, 'Apple', True, False]"
      ]
     },
     "execution_count": 15,
     "metadata": {},
     "output_type": "execute_result"
    }
   ],
   "source": [
    "L = [1,2,3.0,4,5,6,\"Apple\", True, False]\n",
    "L"
   ]
  },
  {
   "cell_type": "markdown",
   "metadata": {},
   "source": [
    "  - To find the types of elements of a list."
   ]
  },
  {
   "cell_type": "code",
   "execution_count": 19,
   "metadata": {},
   "outputs": [
    {
     "data": {
      "text/plain": [
       "(int, float, str, bool)"
      ]
     },
     "execution_count": 19,
     "metadata": {},
     "output_type": "execute_result"
    }
   ],
   "source": [
    "type(L[1]),type(L[2]),type(L[6]),type(L[7])"
   ]
  },
  {
   "cell_type": "markdown",
   "metadata": {},
   "source": [
    "  - To create list of list"
   ]
  },
  {
   "cell_type": "code",
   "execution_count": 23,
   "metadata": {},
   "outputs": [
    {
     "data": {
      "text/plain": [
       "[[1, 2, 3], [3, 4, 5, 6], [6, 7, 8]]"
      ]
     },
     "execution_count": 23,
     "metadata": {},
     "output_type": "execute_result"
    }
   ],
   "source": [
    "L = [[1,2,3],[3,4,5,6],[6,7,8]]\n",
    "L"
   ]
  },
  {
   "cell_type": "markdown",
   "metadata": {},
   "source": [
    "  - To fund list inside a list"
   ]
  },
  {
   "cell_type": "code",
   "execution_count": 25,
   "metadata": {},
   "outputs": [
    {
     "data": {
      "text/plain": [
       "[1, 2, 3]"
      ]
     },
     "execution_count": 25,
     "metadata": {},
     "output_type": "execute_result"
    }
   ],
   "source": [
    "L[0]"
   ]
  },
  {
   "cell_type": "code",
   "execution_count": 26,
   "metadata": {},
   "outputs": [
    {
     "data": {
      "text/plain": [
       "[6, 7, 8]"
      ]
     },
     "execution_count": 26,
     "metadata": {},
     "output_type": "execute_result"
    }
   ],
   "source": [
    "L[2]"
   ]
  },
  {
   "cell_type": "code",
   "execution_count": 27,
   "metadata": {},
   "outputs": [
    {
     "data": {
      "text/plain": [
       "2"
      ]
     },
     "execution_count": 27,
     "metadata": {},
     "output_type": "execute_result"
    }
   ],
   "source": [
    "L[0][1]"
   ]
  },
  {
   "cell_type": "code",
   "execution_count": 28,
   "metadata": {},
   "outputs": [
    {
     "data": {
      "text/plain": [
       "6"
      ]
     },
     "execution_count": 28,
     "metadata": {},
     "output_type": "execute_result"
    }
   ],
   "source": [
    "L[1][3]"
   ]
  },
  {
   "cell_type": "markdown",
   "metadata": {},
   "source": [
    " - To add two lists"
   ]
  },
  {
   "cell_type": "code",
   "execution_count": 1,
   "metadata": {},
   "outputs": [
    {
     "data": {
      "text/plain": [
       "([1, 2, 3, 2, 4, 6], {1, 2, 3, 4, 6})"
      ]
     },
     "execution_count": 1,
     "metadata": {},
     "output_type": "execute_result"
    }
   ],
   "source": [
    "L1 = [1,2,3] ; L2 = [2,4,6]\n",
    "L1+L2, set(L1+L2)"
   ]
  },
  {
   "cell_type": "markdown",
   "metadata": {},
   "source": [
    " - To add elements from end of the list"
   ]
  },
  {
   "cell_type": "code",
   "execution_count": 1,
   "metadata": {},
   "outputs": [
    {
     "data": {
      "text/plain": [
       "[1, 3, 5, 7, 9, 50]"
      ]
     },
     "execution_count": 1,
     "metadata": {},
     "output_type": "execute_result"
    }
   ],
   "source": [
    "L = [1,3,5,7,9]\n",
    "L.append(50)\n",
    "L"
   ]
  },
  {
   "cell_type": "markdown",
   "metadata": {},
   "source": [
    " - To insert element (11) at specific index (1)"
   ]
  },
  {
   "cell_type": "code",
   "execution_count": 2,
   "metadata": {},
   "outputs": [
    {
     "data": {
      "text/plain": [
       "[1, 11, 3, 5, 7, 9, 50]"
      ]
     },
     "execution_count": 2,
     "metadata": {},
     "output_type": "execute_result"
    }
   ],
   "source": [
    "L.insert(1,11)\n",
    "L"
   ]
  },
  {
   "cell_type": "code",
   "execution_count": 4,
   "metadata": {},
   "outputs": [
    {
     "data": {
      "text/plain": [
       "[1, 11, 3, 5, 7, 22, 22, 9, 50]"
      ]
     },
     "execution_count": 4,
     "metadata": {},
     "output_type": "execute_result"
    }
   ],
   "source": [
    "L.insert(5,22)\n",
    "L"
   ]
  },
  {
   "cell_type": "code",
   "execution_count": 5,
   "metadata": {},
   "outputs": [
    {
     "data": {
      "text/plain": [
       "[2, 4, 6, 8, 10]"
      ]
     },
     "execution_count": 5,
     "metadata": {},
     "output_type": "execute_result"
    }
   ],
   "source": [
    "L = [2,4,6,8]\n",
    "L.insert(5,10)\n",
    "L"
   ]
  },
  {
   "cell_type": "code",
   "execution_count": 6,
   "metadata": {},
   "outputs": [
    {
     "data": {
      "text/plain": [
       "[1, 2, 3, 4, 5]"
      ]
     },
     "execution_count": 6,
     "metadata": {},
     "output_type": "execute_result"
    }
   ],
   "source": [
    "L = [1,2,3,5]\n",
    "L.insert(3,4)\n",
    "L"
   ]
  },
  {
   "cell_type": "markdown",
   "metadata": {},
   "source": [
    " - To remove specific element from list. it will remove the first occurance."
   ]
  },
  {
   "cell_type": "code",
   "execution_count": 7,
   "metadata": {},
   "outputs": [
    {
     "data": {
      "text/plain": [
       "[1, 2, 3, 4]"
      ]
     },
     "execution_count": 7,
     "metadata": {},
     "output_type": "execute_result"
    }
   ],
   "source": [
    "L.remove(5)\n",
    "L"
   ]
  },
  {
   "cell_type": "markdown",
   "metadata": {},
   "source": [
    " - To remove the element from the specific index."
   ]
  },
  {
   "cell_type": "code",
   "execution_count": 9,
   "metadata": {},
   "outputs": [
    {
     "data": {
      "text/plain": [
       "[1, 2]"
      ]
     },
     "execution_count": 9,
     "metadata": {},
     "output_type": "execute_result"
    }
   ],
   "source": [
    "L.pop(-1)\n",
    "L"
   ]
  },
  {
   "cell_type": "code",
   "execution_count": 10,
   "metadata": {},
   "outputs": [
    {
     "data": {
      "text/plain": [
       "[1, 3, 5, 7]"
      ]
     },
     "execution_count": 10,
     "metadata": {},
     "output_type": "execute_result"
    }
   ],
   "source": [
    "L = [1,3,5,7,9]\n",
    "L.pop(-1)\n",
    "L"
   ]
  },
  {
   "cell_type": "code",
   "execution_count": 11,
   "metadata": {},
   "outputs": [
    {
     "data": {
      "text/plain": [
       "[1, 5, 7]"
      ]
     },
     "execution_count": 11,
     "metadata": {},
     "output_type": "execute_result"
    }
   ],
   "source": [
    "L.pop(-3)\n",
    "L"
   ]
  },
  {
   "cell_type": "markdown",
   "metadata": {},
   "source": [
    " - To sort the list"
   ]
  },
  {
   "cell_type": "code",
   "execution_count": 14,
   "metadata": {},
   "outputs": [
    {
     "data": {
      "text/plain": [
       "[1, 4, 5, 8, 11, 33, 67]"
      ]
     },
     "execution_count": 14,
     "metadata": {},
     "output_type": "execute_result"
    }
   ],
   "source": [
    "Y = [1,4,33,8,11,67,5]\n",
    "Y.sort()\n",
    "Y"
   ]
  },
  {
   "cell_type": "markdown",
   "metadata": {},
   "source": [
    " - To reverse the list"
   ]
  },
  {
   "cell_type": "code",
   "execution_count": 15,
   "metadata": {},
   "outputs": [
    {
     "data": {
      "text/plain": [
       "[67, 33, 11, 8, 5, 4, 1]"
      ]
     },
     "execution_count": 15,
     "metadata": {},
     "output_type": "execute_result"
    }
   ],
   "source": [
    "Y.reverse()\n",
    "Y"
   ]
  },
  {
   "cell_type": "markdown",
   "metadata": {},
   "source": [
    " - list comprehension"
   ]
  },
  {
   "cell_type": "code",
   "execution_count": 19,
   "metadata": {},
   "outputs": [
    {
     "name": "stdout",
     "output_type": "stream",
     "text": [
      "[0, 1, 2, 3, 4, 5, 6, 7, 8, 9, 10, 11, 12, 13, 14, 15, 16, 17, 18, 19, 20, 21, 22, 23, 24, 25, 26, 27, 28, 29, 30, 31, 32, 33, 34, 35, 36, 37, 38, 39, 40, 41, 42, 43, 44, 45, 46, 47, 48, 49, 50, 51, 52, 53, 54, 55, 56, 57, 58, 59, 60, 61, 62, 63, 64, 65, 66, 67, 68, 69, 70, 71, 72, 73, 74, 75, 76, 77, 78, 79, 80, 81, 82, 83, 84, 85, 86, 87, 88, 89, 90, 91, 92, 93, 94, 95, 96, 97, 98, 99]\n"
     ]
    }
   ],
   "source": [
    "A = [x for x in range(100)]\n",
    "print(A)"
   ]
  },
  {
   "cell_type": "code",
   "execution_count": 18,
   "metadata": {},
   "outputs": [
    {
     "name": "stdout",
     "output_type": "stream",
     "text": [
      "[0, 1, 2, 3, 4, 5, 6, 7, 8, 9, 10, 11, 12, 13, 14, 15, 16, 17, 18, 19, 20, 21, 22, 23, 24, 25, 26, 27, 28, 29, 30, 31, 32, 33, 34, 35, 36, 37, 38, 39, 40, 41, 42, 43, 44, 45, 46, 47, 48, 49, 50, 51, 52, 53, 54, 55, 56, 57, 58, 59]\n"
     ]
    }
   ],
   "source": [
    "L = [x for x in range(60)]\n",
    "print(L)"
   ]
  },
  {
   "cell_type": "code",
   "execution_count": 20,
   "metadata": {},
   "outputs": [
    {
     "data": {
      "text/plain": [
       "[0,\n",
       " 1,\n",
       " 2,\n",
       " 3,\n",
       " 4,\n",
       " 5,\n",
       " 6,\n",
       " 7,\n",
       " 8,\n",
       " 9,\n",
       " 10,\n",
       " 11,\n",
       " 12,\n",
       " 13,\n",
       " 14,\n",
       " 15,\n",
       " 16,\n",
       " 17,\n",
       " 18,\n",
       " 19,\n",
       " 20,\n",
       " 21,\n",
       " 22,\n",
       " 23,\n",
       " 24,\n",
       " 25,\n",
       " 26,\n",
       " 27,\n",
       " 28,\n",
       " 29]"
      ]
     },
     "execution_count": 20,
     "metadata": {},
     "output_type": "execute_result"
    }
   ],
   "source": [
    "L = [x for x in range(30)]\n",
    "L"
   ]
  },
  {
   "cell_type": "code",
   "execution_count": 22,
   "metadata": {},
   "outputs": [
    {
     "name": "stdout",
     "output_type": "stream",
     "text": [
      "[0, 2, 4, 6, 8, 10, 12, 14, 16, 18, 20, 22, 24, 26, 28, 30, 32, 34, 36, 38, 40, 42, 44, 46, 48, 50, 52, 54, 56, 58, 60, 62, 64, 66, 68, 70, 72, 74, 76, 78, 80, 82, 84, 86, 88, 90, 92, 94, 96, 98]\n"
     ]
    }
   ],
   "source": [
    "L = [ x for x in range(100) if x%2==0]\n",
    "print(L)"
   ]
  },
  {
   "cell_type": "code",
   "execution_count": 25,
   "metadata": {},
   "outputs": [
    {
     "name": "stdout",
     "output_type": "stream",
     "text": [
      "[0, 2, 4, 6, 8, 10, 12, 14, 16, 18, 20, 22, 24, 26, 28, 30, 32, 34, 36, 38, 40, 42, 44, 46, 48, 50, 52, 54, 56, 58, 60, 62, 64, 66, 68, 70, 72, 74, 76, 78, 80, 82, 84, 86, 88, 90, 92, 94, 96, 98]\n"
     ]
    }
   ],
   "source": [
    "L = [ x for x in range(100) if x%2 == 0]\n",
    "print(L)"
   ]
  },
  {
   "cell_type": "code",
   "execution_count": 26,
   "metadata": {},
   "outputs": [
    {
     "data": {
      "text/plain": [
       "[0,\n",
       " 2,\n",
       " 4,\n",
       " 6,\n",
       " 8,\n",
       " 10,\n",
       " 12,\n",
       " 14,\n",
       " 16,\n",
       " 18,\n",
       " 20,\n",
       " 22,\n",
       " 24,\n",
       " 26,\n",
       " 28,\n",
       " 30,\n",
       " 32,\n",
       " 34,\n",
       " 36,\n",
       " 38,\n",
       " 40,\n",
       " 42,\n",
       " 44,\n",
       " 46,\n",
       " 48,\n",
       " 50,\n",
       " 52,\n",
       " 54,\n",
       " 56,\n",
       " 58,\n",
       " 60,\n",
       " 62,\n",
       " 64,\n",
       " 66,\n",
       " 68,\n",
       " 70,\n",
       " 72,\n",
       " 74,\n",
       " 76,\n",
       " 78,\n",
       " 80,\n",
       " 82,\n",
       " 84,\n",
       " 86,\n",
       " 88,\n",
       " 90,\n",
       " 92,\n",
       " 94,\n",
       " 96,\n",
       " 98]"
      ]
     },
     "execution_count": 26,
     "metadata": {},
     "output_type": "execute_result"
    }
   ],
   "source": [
    "L = [ x for x in range(100) if x%2==0]\n",
    "L"
   ]
  },
  {
   "cell_type": "code",
   "execution_count": 27,
   "metadata": {},
   "outputs": [
    {
     "data": {
      "text/plain": [
       "18"
      ]
     },
     "execution_count": 27,
     "metadata": {},
     "output_type": "execute_result"
    }
   ],
   "source": [
    "import random as rn\n",
    "rn.randint(0,100)"
   ]
  },
  {
   "cell_type": "code",
   "execution_count": 28,
   "metadata": {},
   "outputs": [
    {
     "data": {
      "text/plain": [
       "68"
      ]
     },
     "execution_count": 28,
     "metadata": {},
     "output_type": "execute_result"
    }
   ],
   "source": [
    "import random as rn\n",
    "rn.randint(0,100)"
   ]
  },
  {
   "cell_type": "code",
   "execution_count": 29,
   "metadata": {},
   "outputs": [
    {
     "data": {
      "text/plain": [
       "14"
      ]
     },
     "execution_count": 29,
     "metadata": {},
     "output_type": "execute_result"
    }
   ],
   "source": [
    "import random as rn\n",
    "rn.randint(0,50)"
   ]
  },
  {
   "cell_type": "code",
   "execution_count": 30,
   "metadata": {},
   "outputs": [
    {
     "name": "stdout",
     "output_type": "stream",
     "text": [
      "[9, 94, 43, 58, 97, 88, 80, 45, 61, 57, 33, 29, 52, 42, 61, 68, 78, 15, 17, 20, 35, 0, 74, 28, 24, 77, 66, 88, 26, 11, 70, 37, 86, 50, 44, 0, 17, 69, 29, 62, 26, 69, 54, 2, 78, 7, 69, 91, 81, 20, 4, 1, 47, 94, 68, 73, 24, 100, 58, 98, 94, 37, 23, 100, 72, 99, 28, 80, 39, 53, 37, 80, 62, 85, 35, 73, 96, 38, 77, 80, 67, 78, 55, 47, 76, 57, 75, 94, 70, 52, 81, 76, 29, 71, 45, 8, 53, 1, 20, 85, 37, 5, 88, 73, 61, 49, 52, 84, 1, 63, 71, 85, 29, 59, 46, 0, 38, 70, 16, 40, 18, 1, 17, 58, 68, 58, 66, 83, 68, 26, 14, 97, 52, 43, 63, 35, 58, 41, 52, 22, 79, 77, 64, 65, 62, 15, 74, 75, 10, 39, 32, 47, 23, 15, 24, 41, 49, 34, 21, 17, 63, 74, 98, 33, 59, 90, 94, 32, 21, 30, 79, 51, 23, 85, 4, 0, 38, 86, 18, 93, 54, 75, 39, 48, 59, 62, 35, 25, 92, 8, 99, 25, 79, 48, 98, 71, 45, 5, 20, 20]\n"
     ]
    }
   ],
   "source": [
    "import random as rn\n",
    "R = [rn.randint(0,100) for k in range(200)]\n",
    "print(R)"
   ]
  },
  {
   "cell_type": "code",
   "execution_count": 31,
   "metadata": {},
   "outputs": [
    {
     "name": "stdout",
     "output_type": "stream",
     "text": [
      "[85, 0, 38, 15, 73, 42, 91, 32, 2, 66, 92, 51, 21, 17, 21, 23, 6, 14, 59, 87, 67, 100, 51, 96, 57, 89, 80, 58, 93, 31, 80, 56, 62, 91, 39, 51, 98, 46, 8, 20, 78, 64, 91, 32, 30, 1, 90, 55, 89, 83]\n"
     ]
    }
   ],
   "source": [
    "import random as rn\n",
    "R = [rn.randint(0,100) for k in range(50)]\n",
    "print(R)"
   ]
  },
  {
   "cell_type": "code",
   "execution_count": 33,
   "metadata": {},
   "outputs": [
    {
     "name": "stdout",
     "output_type": "stream",
     "text": [
      "Counter({91: 3, 51: 3, 32: 2, 21: 2, 89: 2, 80: 2, 85: 1, 0: 1, 38: 1, 15: 1, 73: 1, 42: 1, 2: 1, 66: 1, 92: 1, 17: 1, 23: 1, 6: 1, 14: 1, 59: 1, 87: 1, 67: 1, 100: 1, 96: 1, 57: 1, 58: 1, 93: 1, 31: 1, 56: 1, 62: 1, 39: 1, 98: 1, 46: 1, 8: 1, 20: 1, 78: 1, 64: 1, 30: 1, 1: 1, 90: 1, 55: 1, 83: 1})\n"
     ]
    }
   ],
   "source": [
    "import collections\n",
    "#High perfance counting\n",
    "C = collections.Counter(R)\n",
    "print(C)"
   ]
  },
  {
   "cell_type": "code",
   "execution_count": 35,
   "metadata": {},
   "outputs": [
    {
     "name": "stdout",
     "output_type": "stream",
     "text": [
      "['C', 'C', 'T', 'C', 'A', 'C', 'G', 'C', 'G', 'C', 'T', 'A', 'G', 'G', 'T', 'C', 'T', 'C', 'C', 'C', 'T', 'T', 'C', 'C', 'A', 'A', 'A', 'A', 'C', 'T', 'A', 'A', 'G', 'C', 'C', 'A', 'T', 'T', 'A', 'T', 'C', 'A', 'C', 'T', 'G', 'T', 'C', 'G', 'A', 'T', 'A', 'C', 'C', 'A', 'C', 'T', 'C', 'A', 'A', 'G', 'T', 'G', 'T', 'G', 'T', 'C', 'T', 'A', 'A', 'A', 'T', 'G', 'C', 'G', 'C', 'T', 'A', 'C', 'G', 'T', 'C', 'A', 'T', 'A', 'T', 'G', 'T', 'G', 'G', 'T', 'T', 'A', 'T', 'T', 'A', 'T', 'C', 'C', 'T', 'T', 'T', 'G', 'C', 'G', 'C', 'T', 'A', 'T', 'C', 'C', 'C', 'G', 'A', 'T', 'T', 'A', 'A', 'C', 'T', 'T', 'T', 'G', 'T', 'G', 'G', 'G', 'T', 'G', 'T', 'G', 'A', 'C', 'G', 'A', 'G', 'A', 'C', 'C', 'A', 'C', 'A', 'G', 'T', 'T', 'A', 'A', 'T', 'C', 'G', 'G', 'T', 'T', 'A', 'G', 'G', 'C', 'C', 'T', 'C', 'C', 'C', 'A', 'G', 'A', 'T', 'T', 'T', 'G', 'G', 'G', 'T', 'T', 'G', 'A', 'G', 'C', 'C', 'G', 'G', 'G', 'T', 'C', 'T', 'A', 'T', 'A', 'C', 'T', 'A', 'G', 'C', 'T', 'G', 'A', 'C', 'A', 'G', 'G', 'T', 'C']\n"
     ]
    }
   ],
   "source": [
    "R = [rn.choice(['A','T','G','C']) for i in range(200)]\n",
    "print(R)"
   ]
  },
  {
   "cell_type": "code",
   "execution_count": 36,
   "metadata": {},
   "outputs": [
    {
     "data": {
      "text/plain": [
       "'CCTCACGCGCTAGGTCTCCCTTCCAAAACTAAGCCATTATCACTGTCGATACCACTCAAGTGTGTCTAAATGCGCTACGTCATATGTGGTTATTATCCTTTGCGCTATCCCGATTAACTTTGTGGGTGTGACGAGACCACAGTTAATCGGTTAGGCCTCCCAGATTTGGGTTGAGCCGGGTCTATACTAGCTGACAGGTC'"
      ]
     },
     "execution_count": 36,
     "metadata": {},
     "output_type": "execute_result"
    }
   ],
   "source": [
    "DNA = ''.join(R)\n",
    "DNA"
   ]
  },
  {
   "cell_type": "code",
   "execution_count": 37,
   "metadata": {},
   "outputs": [
    {
     "data": {
      "text/plain": [
       "(44, 13, 2)"
      ]
     },
     "execution_count": 37,
     "metadata": {},
     "output_type": "execute_result"
    }
   ],
   "source": [
    "DNA.count('A'),DNA.count('AT'),DNA.count('ATG')"
   ]
  },
  {
   "cell_type": "markdown",
   "metadata": {},
   "source": [
    "### Mini assignment\n",
    "create DNA structure of 10,000 characters"
   ]
  },
  {
   "cell_type": "code",
   "execution_count": 4,
   "metadata": {},
   "outputs": [
    {
     "name": "stdout",
     "output_type": "stream",
     "text": [
      "['A', 'C', 'C', 'T', 'G', 'G', 'T', 'T', 'T', 'C', 'A', 'T', 'G', 'C', 'C', 'A', 'G', 'C', 'G', 'G', 'G', 'A', 'A', 'A', 'A', 'T', 'A', 'C', 'G', 'C', 'C', 'C', 'T', 'T', 'C', 'A', 'C', 'G', 'A', 'A', 'T', 'T', 'T', 'G', 'G', 'T', 'G', 'G', 'C', 'T', 'A', 'C', 'G', 'C', 'G', 'C', 'C', 'G', 'A', 'C', 'G', 'A', 'G', 'G', 'T', 'C', 'C', 'G', 'C', 'C', 'A', 'C', 'C', 'C', 'A', 'A', 'T', 'C', 'A', 'C', 'C', 'T', 'G', 'G', 'T', 'A', 'T', 'A', 'C', 'G', 'G', 'T', 'T', 'A', 'T', 'G', 'G', 'G', 'G', 'C', 'A', 'A', 'C', 'T', 'T', 'C', 'T', 'T', 'A', 'G', 'C', 'A', 'C', 'A', 'G', 'G', 'A', 'T', 'T', 'C', 'T', 'C', 'A', 'G', 'A', 'G', 'A', 'C', 'C', 'A', 'A', 'T', 'C', 'A', 'A', 'T', 'C', 'A', 'A', 'A', 'T', 'A', 'T', 'G', 'A', 'T', 'G', 'C', 'G', 'C', 'C', 'C', 'A', 'A', 'C', 'G', 'C', 'T', 'T', 'T', 'A', 'A', 'C', 'A', 'A', 'A', 'A', 'A', 'C', 'C', 'A', 'A', 'C', 'C', 'C', 'A', 'C', 'C', 'C', 'C', 'A', 'C', 'A', 'A', 'G', 'T', 'G', 'C', 'C', 'G', 'C', 'G', 'A', 'A', 'T', 'G', 'T', 'C', 'A', 'A', 'C', 'G', 'A', 'T', 'T', 'T', 'C', 'G', 'T', 'C', 'A', 'C', 'C', 'G', 'C', 'T', 'C', 'T', 'C', 'C', 'A', 'C', 'C', 'C', 'C', 'G', 'A', 'C', 'G', 'G', 'A', 'A', 'T', 'G', 'T', 'T', 'G', 'G', 'T', 'A', 'T', 'A', 'A', 'G', 'C', 'T', 'G', 'C', 'A', 'G', 'T', 'C', 'G', 'C', 'T', 'T', 'G', 'A', 'T', 'C', 'T', 'T', 'G', 'C', 'T', 'G', 'A', 'C', 'T', 'T', 'A', 'T', 'G', 'A', 'T', 'T', 'G', 'C', 'G', 'T', 'A', 'C', 'T', 'G', 'A', 'G', 'G', 'C', 'G', 'T', 'G', 'A', 'A', 'T', 'A', 'A', 'C', 'C', 'T', 'T', 'A', 'C', 'T', 'C', 'G', 'G', 'T', 'T', 'C', 'T', 'G', 'T', 'A', 'T', 'A', 'A', 'C', 'A', 'C', 'T', 'A', 'A', 'G', 'G', 'T', 'T', 'T', 'C', 'T', 'A', 'A', 'C', 'A', 'A', 'A', 'G', 'T', 'C', 'G', 'C', 'G', 'T', 'G', 'C', 'A', 'G', 'T', 'A', 'G', 'C', 'T', 'T', 'A', 'T', 'T', 'C', 'T', 'A', 'T', 'G', 'A', 'G', 'C', 'C', 'A', 'A', 'A', 'C', 'G', 'A', 'A', 'C', 'T', 'G', 'A', 'G', 'A', 'A', 'T', 'T', 'G', 'C', 'T', 'G', 'G', 'A', 'A', 'T', 'C', 'C', 'A', 'G', 'G', 'G', 'C', 'T', 'C', 'A', 'T', 'G', 'C', 'T', 'G', 'T', 'C', 'A', 'C', 'C', 'C', 'C', 'G', 'G', 'A', 'T', 'T', 'A', 'G', 'A', 'C', 'G', 'A', 'C', 'T', 'T', 'G', 'T', 'G', 'T', 'T', 'T', 'T', 'G', 'G', 'A', 'C', 'C', 'G', 'G', 'T', 'T', 'T', 'T', 'C', 'T', 'G', 'T', 'A', 'G', 'T', 'A', 'G', 'G', 'G', 'G', 'A', 'T', 'T', 'G', 'C', 'C', 'G', 'T', 'T', 'A', 'G', 'G', 'A', 'C', 'C', 'A', 'T', 'C', 'T', 'C', 'A', 'A', 'A', 'C', 'C', 'T', 'A', 'G', 'A', 'G', 'T', 'G', 'A', 'C', 'G', 'G', 'G', 'G', 'A', 'C', 'G', 'A', 'T', 'G', 'T', 'C', 'G', 'A', 'A', 'G', 'C', 'G', 'T', 'C', 'C', 'A', 'A', 'T', 'A', 'T', 'T', 'A', 'G', 'G', 'A', 'A', 'A', 'A', 'A', 'T', 'G', 'G', 'T', 'G', 'G', 'C', 'G', 'G', 'C', 'G', 'A', 'C', 'G', 'C', 'A', 'T', 'T', 'A', 'A', 'C', 'C', 'A', 'A', 'A', 'G', 'C', 'C', 'T', 'G', 'A', 'T', 'C', 'G', 'A', 'G', 'G', 'A', 'A', 'G', 'G', 'A', 'C', 'C', 'G', 'T', 'A', 'T', 'G', 'T', 'A', 'A', 'C', 'T', 'G', 'C', 'T', 'G', 'G', 'T', 'T', 'G', 'C', 'T', 'G', 'C', 'C', 'T', 'G', 'T', 'A', 'A', 'A', 'A', 'T', 'A', 'T', 'C', 'T', 'T', 'G', 'A', 'G', 'T', 'A', 'T', 'A', 'G', 'G', 'C', 'C', 'C', 'A', 'G', 'G', 'G', 'G', 'G', 'T', 'A', 'T', 'G', 'A', 'G', 'A', 'A', 'C', 'C', 'T', 'A', 'C', 'G', 'T', 'T', 'G', 'T', 'A', 'T', 'A', 'T', 'A', 'A', 'T', 'T', 'G', 'G', 'C', 'C', 'A', 'C', 'A', 'G', 'G', 'T', 'A', 'C', 'T', 'G', 'A', 'G', 'C', 'C', 'G', 'C', 'C', 'T', 'T', 'A', 'T', 'A', 'T', 'C', 'C', 'C', 'T', 'C', 'A', 'T', 'G', 'C', 'T', 'A', 'A', 'G', 'G', 'A', 'T', 'T', 'C', 'T', 'A', 'G', 'C', 'C', 'C', 'A', 'T', 'A', 'A', 'G', 'A', 'G', 'C', 'G', 'A', 'C', 'G', 'C', 'G', 'C', 'T', 'T', 'C', 'T', 'A', 'A', 'G', 'C', 'G', 'C', 'A', 'G', 'G', 'C', 'C', 'C', 'G', 'A', 'A', 'G', 'C', 'A', 'T', 'C', 'G', 'A', 'T', 'C', 'T', 'C', 'C', 'C', 'C', 'C', 'T', 'G', 'A', 'T', 'A', 'T', 'A', 'G', 'C', 'G', 'C', 'A', 'C', 'C', 'G', 'G', 'G', 'T', 'G', 'G', 'C', 'G', 'T', 'C', 'T', 'G', 'G', 'C', 'A', 'G', 'G', 'C', 'G', 'C', 'G', 'C', 'A', 'T', 'C', 'G', 'T', 'A', 'A', 'A', 'T', 'C', 'G', 'T', 'A', 'T', 'C', 'A', 'G', 'C', 'T', 'A', 'C', 'T', 'G', 'G', 'A', 'A', 'G', 'T', 'C', 'C', 'C', 'T', 'T', 'G', 'T', 'C', 'G', 'C', 'T', 'T', 'G', 'A', 'T', 'A', 'T', 'A', 'G', 'A', 'G', 'A', 'C', 'C', 'C', 'G', 'A', 'G', 'G', 'G', 'C', 'A', 'T', 'A', 'T', 'T', 'T', 'G', 'C', 'T', 'G', 'C', 'A', 'C', 'G', 'T', 'G', 'T', 'C', 'G', 'T', 'C', 'C', 'T', 'G', 'G', 'T', 'A', 'A', 'A', 'T', 'G', 'A', 'T', 'A', 'T', 'G', 'T', 'A', 'A', 'G', 'A', 'G', 'T', 'C', 'G', 'T', 'A', 'C', 'G', 'T', 'A', 'G', 'C', 'C', 'C', 'C', 'A', 'C', 'T', 'C', 'G', 'A', 'T', 'T', 'A', 'T', 'A', 'T', 'C', 'T', 'C', 'A', 'T', 'G', 'C', 'T', 'G', 'T', 'A', 'C', 'G', 'C', 'A', 'G', 'C', 'C', 'C', 'A', 'G', 'C', 'G', 'C', 'G', 'C', 'C', 'C', 'C', 'T', 'C', 'C', 'G', 'C', 'T', 'C', 'T', 'T', 'C', 'C', 'A', 'T', 'G', 'C', 'A', 'A', 'C', 'T', 'T', 'T', 'C', 'G', 'T', 'G', 'A', 'G', 'G', 'G', 'C', 'T', 'C', 'G', 'G', 'G', 'T', 'T', 'T', 'C', 'T', 'C', 'A', 'A', 'C', 'T', 'C', 'G', 'T', 'T', 'A', 'G', 'T', 'C', 'T', 'C', 'A', 'A', 'A', 'C', 'C', 'G', 'C', 'A', 'C', 'T', 'C', 'A', 'A', 'T', 'G', 'A', 'T', 'A', 'C', 'A', 'C', 'C', 'T', 'G', 'A', 'G', 'G', 'G', 'G', 'G', 'G', 'A', 'T', 'A', 'C', 'A', 'C', 'A', 'G', 'C', 'G', 'T', 'G', 'T', 'T', 'A', 'A', 'T', 'A', 'G', 'A', 'A', 'T', 'C', 'A', 'G', 'C', 'G', 'A', 'T', 'A', 'G', 'T', 'C', 'A', 'G', 'C', 'G', 'A', 'T', 'G', 'C', 'C', 'T', 'C', 'A', 'T', 'G', 'T', 'T', 'T', 'T', 'C', 'G', 'C', 'G', 'A', 'C', 'G', 'T', 'A', 'A', 'A', 'A', 'G', 'C', 'A', 'G', 'A', 'A', 'T', 'G', 'C', 'C', 'C', 'A', 'A', 'A', 'G', 'A', 'A', 'A', 'A', 'C', 'T', 'G', 'A', 'C', 'G', 'A', 'G', 'C', 'G', 'C', 'C', 'T', 'G', 'C', 'T', 'A', 'C', 'A', 'A', 'T', 'C', 'A', 'G', 'C', 'A', 'G', 'A', 'T', 'A', 'T', 'C', 'T', 'G', 'A', 'A', 'A', 'G', 'T', 'G', 'T', 'T', 'G', 'C', 'C', 'G', 'A', 'C', 'C', 'T', 'A', 'T', 'C', 'A', 'A', 'G', 'A', 'C', 'G', 'C', 'T', 'C', 'T', 'G', 'A', 'T', 'A', 'A', 'C', 'C', 'C', 'A', 'G', 'G', 'A', 'T', 'G', 'G', 'T', 'T', 'T', 'C', 'A', 'C', 'G', 'A', 'T', 'C', 'G', 'A', 'T', 'A', 'C', 'T', 'A', 'T', 'G', 'C', 'C', 'G', 'C', 'T', 'T', 'A', 'C', 'T', 'G', 'C', 'G', 'T', 'A', 'T', 'T', 'G', 'C', 'G', 'T', 'C', 'A', 'T', 'A', 'C', 'C', 'C', 'T', 'A', 'A', 'A', 'A', 'C', 'T', 'T', 'C', 'A', 'A', 'A', 'A', 'A', 'A', 'G', 'A', 'T', 'G', 'G', 'C', 'A', 'A', 'G', 'A', 'G', 'C', 'A', 'G', 'G', 'C', 'G', 'C', 'C', 'A', 'T', 'T', 'G', 'C', 'T', 'T', 'C', 'A', 'T', 'G', 'G', 'G', 'T', 'C', 'A', 'G', 'G', 'G', 'T', 'C', 'G', 'G', 'A', 'C', 'C', 'C', 'C', 'T', 'T', 'T', 'C', 'C', 'A', 'C', 'C', 'G', 'A', 'T', 'C', 'G', 'A', 'A', 'T', 'T', 'C', 'C', 'T', 'C', 'T', 'A', 'G', 'T', 'A', 'T', 'G', 'C', 'T', 'T', 'A', 'A', 'G', 'C', 'G', 'G', 'G', 'T', 'C', 'A', 'G', 'A', 'T', 'G', 'C', 'A', 'C', 'G', 'G', 'A', 'C', 'G', 'T', 'A', 'G', 'G', 'A', 'T', 'C', 'T', 'C', 'T', 'T', 'C', 'G', 'G', 'C', 'T', 'G', 'G', 'G', 'T', 'G', 'T', 'G', 'G', 'G', 'G', 'T', 'C', 'C', 'A', 'A', 'C', 'T', 'G', 'C', 'T', 'C', 'C', 'A', 'C', 'C', 'C', 'T', 'C', 'C', 'C', 'A', 'A', 'C', 'G', 'T', 'G', 'T', 'A', 'G', 'T', 'G', 'G', 'C', 'C', 'T', 'T', 'T', 'A', 'G', 'A', 'A', 'C', 'G', 'A', 'G', 'G', 'G', 'A', 'A', 'C', 'T', 'C', 'A', 'T', 'A', 'A', 'G', 'T', 'A', 'A', 'T', 'G', 'A', 'T', 'A', 'C', 'A', 'T', 'T', 'A', 'C', 'C', 'A', 'G', 'G', 'T', 'A', 'A', 'G', 'C', 'G', 'A', 'A', 'A', 'C', 'T', 'C', 'C', 'T', 'G', 'T', 'T', 'A', 'G', 'G', 'T', 'A', 'A', 'C', 'C', 'C', 'T', 'T', 'G', 'T', 'A', 'T', 'C', 'C', 'G', 'T', 'T', 'C', 'A', 'T', 'C', 'G', 'T', 'G', 'G', 'T', 'T', 'T', 'A', 'C', 'T', 'T', 'G', 'T', 'T', 'T', 'C', 'T', 'C', 'G', 'C', 'A', 'A', 'C', 'T', 'A', 'G', 'T', 'G', 'A', 'T', 'A', 'C', 'G', 'T', 'G', 'T', 'C', 'T', 'G', 'G', 'A', 'G', 'C', 'T', 'C', 'A', 'A', 'A', 'T', 'A', 'C', 'A', 'C', 'A', 'G', 'G', 'C', 'C', 'A', 'A', 'C', 'C', 'C', 'T', 'A', 'T', 'C', 'T', 'G', 'T', 'C', 'A', 'A', 'T', 'C', 'A', 'G', 'C', 'A', 'G', 'A', 'C', 'T', 'G', 'A', 'G', 'T', 'C', 'G', 'C', 'A', 'A', 'T', 'C', 'A', 'T', 'T', 'C', 'T', 'G', 'T', 'C', 'G', 'C', 'G', 'G', 'T', 'T', 'A', 'C', 'G', 'A', 'G', 'T', 'G', 'G', 'A', 'C', 'C', 'T', 'T', 'G', 'T', 'C', 'G', 'G', 'C', 'C', 'G', 'A', 'A', 'G', 'G', 'C', 'A', 'G', 'C', 'A', 'A', 'G', 'T', 'A', 'G', 'A', 'T', 'G', 'G', 'G', 'T', 'C', 'A', 'G', 'C', 'T', 'A', 'A', 'G', 'G', 'C', 'T', 'G', 'G', 'C', 'A', 'G', 'T', 'T', 'C', 'T', 'G', 'T', 'C', 'G', 'A', 'A', 'G', 'T', 'C', 'C', 'G', 'C', 'A', 'T', 'T', 'C', 'C', 'A', 'G', 'C', 'G', 'A', 'G', 'T', 'A', 'A', 'C', 'T', 'C', 'A', 'T', 'A', 'G', 'T', 'G', 'A', 'T', 'A', 'C', 'G', 'C', 'A', 'T', 'C', 'A', 'T', 'C', 'T', 'T', 'C', 'T', 'A', 'A', 'G', 'C', 'G', 'C', 'G', 'A', 'G', 'C', 'G', 'G', 'C', 'A', 'A', 'A', 'G', 'A', 'C', 'C', 'G', 'G', 'C', 'G', 'C', 'A', 'T', 'A', 'G', 'C', 'G', 'C', 'G', 'A', 'T', 'G', 'A', 'A', 'A', 'G', 'T', 'A', 'A', 'C', 'G', 'A', 'T', 'A', 'A', 'G', 'A', 'T', 'C', 'C', 'C', 'C', 'G', 'G', 'G', 'G', 'C', 'A', 'C', 'T', 'G', 'T', 'A', 'T', 'A', 'C', 'T', 'A', 'A', 'C', 'G', 'T', 'C', 'A', 'A', 'G', 'T', 'T', 'G', 'G', 'T', 'G', 'G', 'T', 'G', 'A', 'C', 'C', 'T', 'G', 'G', 'G', 'A', 'A', 'A', 'T', 'A', 'T', 'C', 'T', 'G', 'C', 'G', 'A', 'A', 'T', 'G', 'C', 'A', 'G', 'T', 'T', 'C', 'T', 'C', 'T', 'T', 'C', 'G', 'T', 'T', 'A', 'A', 'T', 'A', 'G', 'G', 'G', 'T', 'C', 'G', 'A', 'G', 'G', 'T', 'G', 'G', 'G', 'T', 'A', 'A', 'G', 'T', 'G', 'A', 'A', 'C', 'C', 'G', 'T', 'A', 'C', 'A', 'A', 'G', 'T', 'T', 'T', 'A', 'C', 'G', 'A', 'G', 'C', 'A', 'A', 'T', 'C', 'T', 'G', 'T', 'C', 'T', 'C', 'T', 'C', 'C', 'A', 'T', 'A', 'G', 'G', 'T', 'A', 'C', 'T', 'A', 'G', 'G', 'T', 'C', 'A', 'T', 'T', 'C', 'A', 'T', 'G', 'C', 'A', 'G', 'C', 'C', 'A', 'G', 'C', 'G', 'A', 'G', 'T', 'T', 'C', 'A', 'T', 'A', 'A', 'A', 'A', 'A', 'G', 'G', 'T', 'G', 'T', 'T', 'T', 'T', 'T', 'G', 'G', 'C', 'T', 'A', 'C', 'G', 'C', 'C', 'G', 'T', 'C', 'G', 'C', 'G', 'A', 'T', 'T', 'A', 'A', 'T', 'C', 'C', 'T', 'C', 'T', 'T', 'C', 'A', 'C', 'A', 'A', 'T', 'A', 'A', 'T', 'A', 'A', 'T', 'T', 'G', 'A', 'T', 'C', 'T', 'A', 'G', 'G', 'G', 'G', 'T', 'G', 'G', 'G', 'G', 'G', 'C', 'C', 'C', 'T', 'A', 'A', 'A', 'G', 'T', 'C', 'G', 'C', 'A', 'C', 'A', 'C', 'G', 'A', 'A', 'T', 'G', 'C', 'T', 'C', 'T', 'T', 'C', 'T', 'C', 'G', 'A', 'G', 'G', 'C', 'C', 'A', 'G', 'C', 'T', 'T', 'G', 'C', 'T', 'G', 'T', 'C', 'A', 'T', 'A', 'A', 'T', 'C', 'G', 'C', 'T', 'C', 'T', 'C', 'A', 'C', 'G', 'A', 'T', 'C', 'A', 'G', 'A', 'A', 'T', 'G', 'A', 'T', 'T', 'A', 'T', 'C', 'A', 'T', 'T', 'C', 'C', 'C', 'A', 'C', 'A', 'A', 'A', 'T', 'G', 'A', 'T', 'G', 'T', 'C', 'G', 'T', 'A', 'A', 'A', 'C', 'T', 'A', 'G', 'G', 'G', 'A', 'G', 'C', 'C', 'A', 'G', 'G', 'G', 'T', 'G', 'T', 'G', 'C', 'G', 'G', 'C', 'A', 'T', 'C', 'A', 'G', 'C', 'G', 'C', 'G', 'A', 'T', 'G', 'A', 'G', 'T', 'C', 'G', 'A', 'T', 'G', 'T', 'A', 'G', 'A', 'C', 'G', 'T', 'A', 'T', 'T', 'A', 'T', 'T', 'A', 'T', 'A', 'T', 'G', 'G', 'A', 'C', 'A', 'G', 'A', 'A', 'A', 'A', 'G', 'T', 'T', 'C', 'C', 'C', 'A', 'A', 'A', 'C', 'G', 'C', 'T', 'G', 'C', 'G', 'G', 'G', 'G', 'A', 'G', 'T', 'T', 'C', 'C', 'T', 'G', 'A', 'C', 'A', 'T', 'T', 'C', 'C', 'G', 'A', 'C', 'A', 'G', 'C', 'C', 'G', 'G', 'C', 'G', 'C', 'A', 'G', 'G', 'G', 'A', 'A', 'A', 'A', 'C', 'A', 'T', 'G', 'C', 'T', 'A', 'A', 'G', 'A', 'T', 'C', 'C', 'T', 'G', 'C', 'G', 'G', 'G', 'T', 'A', 'T', 'T', 'A', 'T', 'A', 'T', 'G', 'G', 'G', 'T', 'C', 'G', 'T', 'A', 'G', 'C', 'C', 'G', 'G', 'A', 'G', 'T', 'G', 'T', 'A', 'G', 'T', 'T', 'A', 'T', 'T', 'A', 'T', 'C', 'C', 'G', 'T', 'T', 'A', 'C', 'G', 'A', 'A', 'T', 'C', 'T', 'C', 'T', 'A', 'A', 'A', 'C', 'A', 'A', 'G', 'A', 'A', 'C', 'G', 'T', 'T', 'G', 'C', 'A', 'T', 'C', 'A', 'C', 'C', 'G', 'G', 'A', 'T', 'T', 'A', 'T', 'C', 'A', 'T', 'A', 'A', 'A', 'C', 'T', 'C', 'C', 'T', 'C', 'C', 'T', 'C', 'G', 'A', 'A', 'T', 'T', 'C', 'T', 'C', 'C', 'C', 'G', 'T', 'G', 'T', 'C', 'A', 'C', 'G', 'C', 'C', 'A', 'A', 'T', 'A', 'G', 'A', 'T', 'C', 'A', 'G', 'A', 'T', 'T', 'T', 'G', 'C', 'C', 'T', 'C', 'T', 'A', 'T', 'C', 'C', 'A', 'C', 'C', 'T', 'C', 'C', 'C', 'G', 'A', 'T', 'A', 'A', 'T', 'T', 'G', 'C', 'T', 'G', 'G', 'C', 'C', 'A', 'G', 'T', 'C', 'C', 'C', 'T', 'T', 'C', 'T', 'C', 'G', 'T', 'C', 'T', 'C', 'T', 'T', 'T', 'G', 'T', 'C', 'A', 'T', 'A', 'T', 'G', 'T', 'T', 'C', 'C', 'T', 'T', 'T', 'T', 'G', 'A', 'T', 'G', 'T', 'T', 'C', 'G', 'T', 'T', 'A', 'G', 'A', 'T', 'T', 'A', 'G', 'G', 'C', 'G', 'G', 'A', 'G', 'A', 'T', 'G', 'G', 'A', 'C', 'A', 'C', 'C', 'T', 'C', 'C', 'C', 'G', 'C', 'T', 'T', 'A', 'C', 'A', 'C', 'T', 'C', 'C', 'C', 'G', 'C', 'A', 'A', 'A', 'G', 'G', 'G', 'T', 'G', 'G', 'G', 'T', 'G', 'T', 'C', 'G', 'G', 'G', 'T', 'A', 'G', 'T', 'G', 'G', 'C', 'A', 'C', 'G', 'C', 'G', 'T', 'C', 'C', 'T', 'T', 'A', 'G', 'A', 'T', 'T', 'C', 'G', 'A', 'G', 'T', 'C', 'C', 'G', 'A', 'G', 'T', 'G', 'G', 'G', 'G', 'A', 'G', 'G', 'G', 'C', 'C', 'T', 'A', 'T', 'G', 'C', 'C', 'G', 'C', 'C', 'A', 'G', 'A', 'C', 'T', 'G', 'G', 'T', 'C', 'A', 'T', 'T', 'G', 'T', 'T', 'G', 'T', 'A', 'T', 'C', 'C', 'G', 'A', 'C', 'T', 'C', 'T', 'C', 'G', 'T', 'T', 'A', 'T', 'A', 'C', 'G', 'T', 'T', 'A', 'A', 'G', 'G', 'G', 'C', 'T', 'T', 'C', 'G', 'C', 'C', 'A', 'T', 'A', 'T', 'G', 'C', 'A', 'A', 'G', 'G', 'T', 'C', 'A', 'A', 'A', 'T', 'G', 'T', 'C', 'A', 'G', 'G', 'C', 'G', 'T', 'G', 'T', 'C', 'C', 'C', 'T', 'G', 'C', 'T', 'G', 'T', 'T', 'G', 'G', 'T', 'A', 'G', 'G', 'T', 'G', 'A', 'G', 'G', 'G', 'T', 'A', 'G', 'C', 'C', 'G', 'A', 'A', 'A', 'T', 'G', 'G', 'A', 'T', 'T', 'A', 'A', 'T', 'C', 'C', 'C', 'C', 'T', 'C', 'G', 'G', 'C', 'A', 'C', 'G', 'C', 'G', 'A', 'T', 'A', 'G', 'T', 'C', 'C', 'G', 'A', 'G', 'C', 'C', 'C', 'A', 'T', 'T', 'T', 'G', 'A', 'C', 'C', 'A', 'T', 'T', 'G', 'T', 'C', 'G', 'G', 'C', 'G', 'G', 'T', 'G', 'A', 'C', 'C', 'T', 'G', 'G', 'G', 'C', 'C', 'G', 'A', 'C', 'G', 'A', 'G', 'G', 'G', 'T', 'C', 'A', 'A', 'G', 'G', 'A', 'G', 'G', 'G', 'A', 'A', 'A', 'T', 'T', 'T', 'A', 'C', 'T', 'A', 'G', 'T', 'T', 'C', 'T', 'G', 'A', 'A', 'C', 'T', 'G', 'A', 'A', 'T', 'G', 'T', 'G', 'T', 'A', 'A', 'G', 'G', 'G', 'T', 'T', 'G', 'G', 'A', 'A', 'A', 'G', 'C', 'T', 'G', 'A', 'A', 'T', 'C', 'G', 'T', 'C', 'G', 'A', 'T', 'G', 'C', 'C', 'T', 'T', 'T', 'A', 'G', 'A', 'T', 'T', 'C', 'C', 'T', 'C', 'G', 'T', 'G', 'T', 'C', 'A', 'A', 'G', 'G', 'T', 'T', 'C', 'G', 'C', 'T', 'C', 'A', 'T', 'C', 'A', 'A', 'A', 'T', 'T', 'C', 'C', 'T', 'C', 'T', 'T', 'T', 'T', 'T', 'C', 'A', 'G', 'A', 'A', 'T', 'G', 'C', 'T', 'G', 'G', 'T', 'T', 'A', 'G', 'C', 'A', 'C', 'A', 'T', 'G', 'T', 'A', 'T', 'C', 'C', 'A', 'A', 'C', 'T', 'A', 'G', 'C', 'A', 'T', 'T', 'G', 'T', 'A', 'T', 'A', 'G', 'T', 'T', 'C', 'T', 'T', 'A', 'A', 'C', 'T', 'C', 'T', 'C', 'T', 'A', 'T', 'G', 'A', 'C', 'A', 'A', 'C', 'A', 'T', 'T', 'G', 'T', 'C', 'C', 'A', 'A', 'T', 'T', 'G', 'T', 'G', 'C', 'C', 'A', 'G', 'G', 'C', 'C', 'C', 'G', 'G', 'G', 'T', 'G', 'A', 'A', 'A', 'T', 'T', 'G', 'A', 'T', 'A', 'G', 'C', 'C', 'C', 'G', 'G', 'T', 'G', 'G', 'T', 'G', 'G', 'A', 'A', 'A', 'T', 'A', 'C', 'A', 'C', 'T', 'G', 'A', 'C', 'T', 'A', 'A', 'C', 'T', 'T', 'A', 'A', 'T', 'G', 'C', 'C', 'G', 'A', 'T', 'A', 'T', 'T', 'C', 'G', 'A', 'C', 'C', 'G', 'C', 'A', 'C', 'G', 'T', 'A', 'C', 'T', 'G', 'T', 'T', 'G', 'A', 'T', 'T', 'T', 'C', 'G', 'T', 'G', 'C', 'G', 'C', 'A', 'A', 'A', 'T', 'G', 'G', 'T', 'T', 'T', 'C', 'T', 'C', 'G', 'C', 'C', 'C', 'T', 'G', 'A', 'C', 'T', 'G', 'A', 'C', 'A', 'C', 'T', 'C', 'T', 'G', 'T', 'G', 'A', 'G', 'C', 'C', 'C', 'T', 'A', 'C', 'A', 'T', 'A', 'G', 'G', 'G', 'G', 'T', 'T', 'G', 'T', 'A', 'A', 'C', 'T', 'T', 'C', 'G', 'A', 'T', 'G', 'C', 'C', 'C', 'A', 'C', 'G', 'T', 'G', 'G', 'C', 'A', 'C', 'A', 'A', 'A', 'C', 'T', 'A', 'T', 'A', 'T', 'C', 'A', 'A', 'T', 'C', 'G', 'G', 'T', 'A', 'A', 'T', 'A', 'C', 'C', 'G', 'G', 'C', 'A', 'A', 'A', 'T', 'C', 'G', 'G', 'C', 'T', 'G', 'G', 'T', 'G', 'C', 'C', 'A', 'T', 'C', 'C', 'T', 'C', 'A', 'C', 'T', 'C', 'C', 'T', 'G', 'T', 'G', 'A', 'A', 'C', 'C', 'T', 'G', 'A', 'C', 'C', 'A', 'G', 'G', 'G', 'A', 'T', 'A', 'T', 'C', 'A', 'C', 'G', 'A', 'C', 'T', 'T', 'G', 'G', 'C', 'C', 'C', 'C', 'G', 'A', 'A', 'T', 'A', 'G', 'T', 'A', 'A', 'T', 'C', 'A', 'T', 'A', 'G', 'A', 'C', 'G', 'G', 'G', 'A', 'T', 'T', 'G', 'A', 'C', 'C', 'T', 'A', 'G', 'A', 'A', 'A', 'G', 'G', 'C', 'C', 'C', 'T', 'G', 'C', 'C', 'C', 'C', 'C', 'G', 'C', 'A', 'A', 'C', 'A', 'G', 'T', 'C', 'G', 'T', 'G', 'G', 'A', 'A', 'G', 'T', 'C', 'A', 'A', 'T', 'A', 'G', 'C', 'C', 'G', 'T', 'T', 'T', 'C', 'G', 'A', 'T', 'T', 'A', 'A', 'T', 'G', 'T', 'G', 'G', 'G', 'C', 'T', 'A', 'C', 'T', 'T', 'A', 'A', 'C', 'C', 'C', 'G', 'C', 'C', 'C', 'C', 'C', 'C', 'C', 'A', 'G', 'T', 'C', 'A', 'A', 'A', 'G', 'A', 'T', 'G', 'C', 'C', 'G', 'G', 'A', 'G', 'T', 'A', 'T', 'T', 'A', 'C', 'A', 'T', 'T', 'C', 'T', 'A', 'G', 'T', 'T', 'G', 'T', 'G', 'C', 'A', 'C', 'T', 'A', 'A', 'G', 'T', 'C', 'A', 'A', 'C', 'T', 'T', 'C', 'G', 'T', 'G', 'T', 'C', 'C', 'C', 'G', 'T', 'A', 'T', 'C', 'G', 'A', 'G', 'T', 'C', 'A', 'T', 'C', 'A', 'T', 'G', 'T', 'C', 'T', 'C', 'G', 'A', 'A', 'G', 'G', 'G', 'G', 'A', 'T', 'G', 'A', 'G', 'T', 'G', 'A', 'A', 'A', 'G', 'C', 'A', 'C', 'C', 'A', 'C', 'G', 'G', 'G', 'A', 'G', 'C', 'A', 'C', 'A', 'C', 'T', 'T', 'A', 'T', 'C', 'G', 'C', 'A', 'G', 'T', 'C', 'T', 'T', 'A', 'A', 'T', 'G', 'G', 'A', 'T', 'C', 'T', 'T', 'T', 'A', 'T', 'A', 'C', 'T', 'G', 'T', 'T', 'G', 'G', 'A', 'G', 'G', 'G', 'G', 'C', 'A', 'G', 'T', 'G', 'G', 'G', 'C', 'T', 'A', 'A', 'T', 'G', 'G', 'T', 'T', 'T', 'G', 'T', 'G', 'A', 'G', 'G', 'G', 'G', 'C', 'C', 'A', 'T', 'A', 'A', 'A', 'G', 'A', 'T', 'A', 'A', 'C', 'G', 'A', 'C', 'T', 'A', 'G', 'C', 'G', 'G', 'A', 'C', 'C', 'T', 'T', 'T', 'A', 'G', 'T', 'T', 'A', 'T', 'T', 'T', 'A', 'A', 'G', 'G', 'A', 'C', 'T', 'C', 'A', 'T', 'C', 'G', 'G', 'T', 'A', 'C', 'G', 'C', 'G', 'G', 'T', 'T', 'G', 'A', 'A', 'G', 'T', 'A', 'T', 'A', 'C', 'A', 'A', 'G', 'A', 'G', 'C', 'A', 'T', 'C', 'A', 'G', 'T', 'T', 'G', 'A', 'A', 'C', 'A', 'C', 'C', 'A', 'A', 'C', 'T', 'G', 'T', 'C', 'C', 'T', 'C', 'G', 'T', 'G', 'A', 'T', 'G', 'C', 'A', 'C', 'A', 'A', 'G', 'G', 'T', 'A', 'G', 'A', 'C', 'A', 'T', 'A', 'G', 'C', 'T', 'A', 'A', 'A', 'G', 'T', 'A', 'T', 'T', 'C', 'C', 'T', 'C', 'C', 'T', 'A', 'A', 'T', 'T', 'C', 'T', 'A', 'A', 'C', 'T', 'G', 'C', 'G', 'G', 'A', 'C', 'T', 'T', 'G', 'A', 'G', 'G', 'G', 'C', 'C', 'T', 'G', 'G', 'T', 'G', 'T', 'A', 'A', 'G', 'A', 'G', 'G', 'A', 'C', 'G', 'A', 'T', 'T', 'C', 'G', 'A', 'A', 'C', 'G', 'G', 'T', 'A', 'G', 'A', 'T', 'G', 'T', 'C', 'C', 'C', 'A', 'C', 'T', 'A', 'C', 'C', 'T', 'A', 'C', 'T', 'A', 'T', 'C', 'A', 'C', 'T', 'C', 'T', 'G', 'C', 'A', 'G', 'G', 'G', 'T', 'C', 'A', 'G', 'A', 'T', 'A', 'T', 'C', 'G', 'T', 'C', 'T', 'T', 'A', 'T', 'A', 'G', 'G', 'G', 'G', 'C', 'G', 'C', 'A', 'T', 'G', 'C', 'G', 'A', 'T', 'C', 'C', 'G', 'C', 'T', 'G', 'G', 'A', 'A', 'A', 'C', 'T', 'G', 'C', 'G', 'G', 'C', 'G', 'G', 'T', 'T', 'G', 'G', 'G', 'G', 'A', 'A', 'T', 'C', 'T', 'A', 'G', 'G', 'G', 'C', 'A', 'C', 'T', 'C', 'C', 'T', 'G', 'A', 'G', 'C', 'G', 'T', 'C', 'A', 'C', 'T', 'A', 'C', 'T', 'T', 'T', 'T', 'T', 'T', 'C', 'A', 'A', 'C', 'A', 'C', 'T', 'G', 'C', 'T', 'C', 'G', 'G', 'C', 'T', 'G', 'T', 'C', 'A', 'C', 'C', 'G', 'A', 'T', 'T', 'T', 'A', 'A', 'G', 'T', 'A', 'A', 'T', 'T', 'T', 'A', 'G', 'C', 'C', 'A', 'T', 'T', 'A', 'G', 'C', 'T', 'C', 'G', 'T', 'A', 'A', 'G', 'G', 'A', 'T', 'G', 'T', 'C', 'C', 'C', 'A', 'G', 'G', 'G', 'T', 'C', 'C', 'C', 'T', 'C', 'A', 'G', 'C', 'G', 'G', 'T', 'A', 'C', 'G', 'C', 'G', 'A', 'C', 'T', 'G', 'C', 'A', 'C', 'A', 'C', 'A', 'A', 'G', 'T', 'A', 'C', 'A', 'A', 'A', 'T', 'G', 'C', 'G', 'T', 'A', 'G', 'A', 'C', 'C', 'G', 'A', 'C', 'A', 'G', 'A', 'A', 'G', 'T', 'C', 'T', 'C', 'G', 'C', 'T', 'C', 'G', 'C', 'C', 'T', 'G', 'T', 'T', 'C', 'A', 'C', 'A', 'C', 'T', 'A', 'C', 'A', 'C', 'G', 'A', 'G', 'G', 'G', 'T', 'C', 'C', 'C', 'A', 'C', 'G', 'A', 'C', 'G', 'T', 'C', 'C', 'G', 'C', 'C', 'C', 'G', 'G', 'T', 'C', 'T', 'A', 'G', 'C', 'T', 'G', 'T', 'A', 'G', 'T', 'T', 'C', 'A', 'T', 'T', 'C', 'G', 'C', 'G', 'G', 'A', 'T', 'G', 'G', 'A', 'G', 'G', 'T', 'T', 'C', 'T', 'A', 'A', 'G', 'C', 'C', 'T', 'A', 'C', 'C', 'A', 'A', 'T', 'T', 'A', 'C', 'G', 'A', 'C', 'T', 'T', 'G', 'T', 'T', 'A', 'A', 'C', 'A', 'C', 'T', 'C', 'C', 'C', 'C', 'G', 'A', 'G', 'C', 'G', 'C', 'T', 'T', 'G', 'G', 'C', 'G', 'A', 'T', 'A', 'T', 'C', 'G', 'T', 'C', 'C', 'G', 'G', 'G', 'T', 'A', 'C', 'G', 'C', 'A', 'T', 'C', 'T', 'A', 'A', 'C', 'T', 'A', 'A', 'G', 'T', 'G', 'T', 'A', 'C', 'G', 'T', 'A', 'G', 'G', 'C', 'T', 'T', 'T', 'T', 'G', 'A', 'T', 'C', 'C', 'A', 'G', 'A', 'A', 'A', 'T', 'C', 'T', 'T', 'T', 'A', 'C', 'C', 'A', 'C', 'C', 'G', 'T', 'G', 'G', 'T', 'T', 'G', 'C', 'C', 'A', 'T', 'T', 'C', 'C', 'T', 'G', 'C', 'T', 'T', 'T', 'G', 'C', 'T', 'T', 'G', 'C', 'T', 'G', 'C', 'C', 'G', 'G', 'A', 'G', 'A', 'G', 'A', 'A', 'T', 'A', 'C', 'G', 'T', 'T', 'C', 'A', 'G', 'A', 'T', 'A', 'C', 'G', 'T', 'T', 'C', 'T', 'C', 'T', 'C', 'C', 'G', 'G', 'G', 'C', 'G', 'C', 'T', 'G', 'T', 'G', 'C', 'T', 'A', 'C', 'C', 'A', 'T', 'A', 'T', 'T', 'C', 'G', 'G', 'C', 'A', 'G', 'A', 'C', 'T', 'T', 'A', 'G', 'G', 'C', 'A', 'A', 'G', 'G', 'G', 'G', 'T', 'G', 'A', 'G', 'A', 'T', 'G', 'T', 'A', 'A', 'T', 'G', 'G', 'G', 'A', 'C', 'A', 'A', 'T', 'A', 'T', 'C', 'G', 'G', 'T', 'G', 'G', 'A', 'A', 'T', 'A', 'T', 'A', 'A', 'A', 'A', 'G', 'A', 'C', 'T', 'C', 'G', 'C', 'A', 'T', 'G', 'C', 'A', 'A', 'A', 'A', 'A', 'T', 'G', 'A', 'G', 'G', 'A', 'G', 'C', 'T', 'C', 'T', 'T', 'G', 'T', 'A', 'T', 'A', 'T', 'T', 'C', 'G', 'T', 'G', 'A', 'C', 'A', 'T', 'C', 'C', 'A', 'C', 'T', 'A', 'T', 'C', 'G', 'G', 'G', 'G', 'T', 'T', 'T', 'C', 'G', 'T', 'G', 'G', 'G', 'T', 'T', 'G', 'C', 'T', 'A', 'A', 'A', 'C', 'T', 'C', 'T', 'A', 'G', 'C', 'C', 'C', 'A', 'A', 'C', 'A', 'A', 'A', 'C', 'T', 'A', 'A', 'C', 'C', 'A', 'C', 'T', 'C', 'G', 'T', 'G', 'T', 'G', 'G', 'G', 'A', 'G', 'A', 'T', 'T', 'G', 'G', 'T', 'G', 'T', 'A', 'G', 'C', 'T', 'C', 'G', 'C', 'T', 'C', 'G', 'T', 'A', 'G', 'A', 'C', 'A', 'G', 'C', 'T', 'T', 'A', 'G', 'G', 'G', 'A', 'G', 'C', 'T', 'T', 'G', 'T', 'C', 'C', 'A', 'G', 'C', 'C', 'C', 'G', 'A', 'G', 'T', 'A', 'A', 'G', 'C', 'C', 'A', 'T', 'T', 'T', 'T', 'A', 'C', 'C', 'G', 'A', 'G', 'C', 'C', 'T', 'A', 'A', 'G', 'C', 'G', 'A', 'G', 'T', 'G', 'T', 'G', 'C', 'C', 'T', 'G', 'C', 'A', 'G', 'A', 'C', 'G', 'G', 'A', 'T', 'A', 'C', 'G', 'C', 'T', 'A', 'A', 'C', 'G', 'T', 'G', 'G', 'T', 'A', 'T', 'A', 'G', 'G', 'T', 'C', 'G', 'C', 'T', 'C', 'T', 'A', 'G', 'C', 'A', 'C', 'C', 'A', 'G', 'G', 'A', 'T', 'C', 'T', 'T', 'G', 'A', 'G', 'A', 'C', 'A', 'T', 'A', 'T', 'T', 'C', 'G', 'T', 'A', 'G', 'G', 'C', 'C', 'T', 'T', 'T', 'G', 'T', 'G', 'C', 'T', 'T', 'T', 'A', 'C', 'T', 'A', 'C', 'G', 'C', 'A', 'G', 'A', 'C', 'G', 'G', 'T', 'G', 'T', 'A', 'G', 'A', 'A', 'T', 'T', 'G', 'A', 'G', 'T', 'T', 'C', 'C', 'C', 'G', 'A', 'T', 'G', 'C', 'T', 'A', 'G', 'C', 'G', 'G', 'C', 'T', 'G', 'A', 'T', 'T', 'A', 'G', 'A', 'T', 'T', 'G', 'G', 'T', 'A', 'T', 'T', 'G', 'G', 'C', 'A', 'G', 'A', 'A', 'C', 'A', 'T', 'T', 'T', 'A', 'C', 'G', 'A', 'G', 'A', 'A', 'G', 'A', 'T', 'C', 'G', 'A', 'T', 'C', 'C', 'A', 'C', 'T', 'T', 'A', 'G', 'C', 'A', 'G', 'T', 'A', 'C', 'G', 'A', 'G', 'C', 'G', 'C', 'C', 'G', 'A', 'G', 'C', 'G', 'G', 'G', 'G', 'C', 'C', 'T', 'T', 'A', 'C', 'T', 'T', 'G', 'A', 'C', 'A', 'T', 'T', 'T', 'A', 'A', 'C', 'A', 'T', 'G', 'C', 'T', 'C', 'G', 'T', 'G', 'T', 'C', 'C', 'T', 'T', 'T', 'A', 'G', 'A', 'T', 'A', 'G', 'C', 'T', 'C', 'A', 'T', 'G', 'T', 'A', 'G', 'A', 'A', 'C', 'C', 'C', 'A', 'A', 'A', 'G', 'T', 'C', 'C', 'G', 'C', 'A', 'C', 'T', 'C', 'T', 'C', 'G', 'T', 'C', 'C', 'T', 'T', 'G', 'C', 'A', 'G', 'T', 'A', 'C', 'T', 'A', 'C', 'T', 'A', 'G', 'T', 'G', 'A', 'C', 'T', 'A', 'T', 'A', 'T', 'C', 'C', 'T', 'T', 'C', 'C', 'G', 'C', 'G', 'C', 'T', 'A', 'T', 'A', 'C', 'G', 'C', 'A', 'A', 'T', 'G', 'G', 'G', 'A', 'T', 'C', 'G', 'C', 'T', 'A', 'C', 'T', 'A', 'T', 'T', 'C', 'C', 'G', 'C', 'C', 'C', 'C', 'A', 'G', 'G', 'C', 'A', 'T', 'G', 'G', 'T', 'G', 'T', 'T', 'T', 'C', 'C', 'C', 'T', 'C', 'C', 'T', 'G', 'A', 'G', 'C', 'C', 'A', 'C', 'G', 'T', 'T', 'T', 'T', 'A', 'G', 'A', 'A', 'C', 'G', 'G', 'C', 'C', 'T', 'T', 'T', 'T', 'T', 'G', 'C', 'C', 'A', 'A', 'C', 'T', 'C', 'C', 'T', 'A', 'C', 'T', 'T', 'C', 'G', 'A', 'G', 'C', 'C', 'A', 'A', 'A', 'C', 'T', 'G', 'G', 'A', 'C', 'C', 'G', 'G', 'C', 'A', 'C', 'T', 'G', 'T', 'A', 'G', 'G', 'G', 'A', 'C', 'G', 'T', 'A', 'C', 'G', 'T', 'A', 'C', 'A', 'T', 'C', 'G', 'T', 'C', 'A', 'A', 'C', 'A', 'G', 'G', 'G', 'C', 'C', 'T', 'T', 'T', 'G', 'G', 'G', 'T', 'C', 'C', 'G', 'A', 'A', 'A', 'T', 'T', 'C', 'C', 'T', 'T', 'A', 'C', 'G', 'C', 'C', 'G', 'T', 'C', 'C', 'T', 'A', 'A', 'C', 'G', 'C', 'C', 'G', 'G', 'T', 'C', 'A', 'C', 'A', 'C', 'C', 'A', 'A', 'A', 'A', 'A', 'C', 'T', 'G', 'C', 'A', 'G', 'G', 'A', 'T', 'G', 'A', 'A', 'G', 'T', 'C', 'A', 'G', 'G', 'C', 'C', 'A', 'A', 'T', 'T', 'A', 'T', 'A', 'G', 'T', 'G', 'G', 'T', 'A', 'T', 'A', 'A', 'G', 'G', 'G', 'C', 'T', 'A', 'C', 'T', 'A', 'C', 'T', 'G', 'T', 'A', 'T', 'T', 'A', 'T', 'A', 'C', 'T', 'T', 'C', 'A', 'G', 'G', 'A', 'T', 'G', 'A', 'T', 'T', 'C', 'G', 'T', 'C', 'G', 'G', 'G', 'A', 'G', 'A', 'A', 'A', 'A', 'G', 'A', 'A', 'T', 'C', 'G', 'A', 'T', 'G', 'A', 'G', 'C', 'G', 'C', 'T', 'T', 'C', 'T', 'C', 'A', 'A', 'C', 'T', 'G', 'T', 'A', 'A', 'G', 'C', 'C', 'C', 'A', 'G', 'A', 'G', 'T', 'C', 'A', 'A', 'A', 'T', 'C', 'T', 'T', 'A', 'T', 'T', 'G', 'T', 'C', 'G', 'G', 'G', 'A', 'T', 'A', 'G', 'C', 'T', 'T', 'C', 'C', 'T', 'T', 'G', 'T', 'T', 'A', 'A', 'T', 'G', 'G', 'C', 'G', 'C', 'T', 'G', 'T', 'T', 'C', 'T', 'C', 'C', 'A', 'A', 'A', 'A', 'G', 'C', 'A', 'T', 'A', 'C', 'T', 'G', 'T', 'G', 'C', 'T', 'T', 'G', 'C', 'T', 'C', 'C', 'A', 'A', 'C', 'C', 'A', 'G', 'T', 'T', 'C', 'C', 'C', 'C', 'C', 'T', 'A', 'C', 'C', 'G', 'A', 'C', 'C', 'T', 'G', 'A', 'A', 'T', 'C', 'A', 'A', 'T', 'A', 'G', 'A', 'C', 'A', 'C', 'A', 'C', 'C', 'G', 'G', 'C', 'G', 'G', 'T', 'G', 'C', 'C', 'G', 'T', 'C', 'G', 'A', 'G', 'T', 'G', 'C', 'T', 'C', 'G', 'C', 'C', 'C', 'C', 'T', 'A', 'G', 'C', 'G', 'A', 'T', 'A', 'T', 'C', 'A', 'C', 'A', 'G', 'C', 'G', 'G', 'C', 'A', 'T', 'T', 'G', 'C', 'G', 'G', 'A', 'G', 'C', 'C', 'C', 'A', 'T', 'A', 'G', 'T', 'A', 'G', 'A', 'T', 'T', 'G', 'A', 'T', 'A', 'C', 'T', 'A', 'A', 'A', 'C', 'T', 'T', 'T', 'C', 'G', 'C', 'G', 'G', 'G', 'A', 'A', 'T', 'T', 'T', 'T', 'A', 'A', 'A', 'C', 'G', 'T', 'G', 'A', 'T', 'G', 'A', 'G', 'G', 'C', 'T', 'T', 'A', 'A', 'A', 'G', 'G', 'T', 'C', 'A', 'A', 'C', 'C', 'A', 'G', 'A', 'T', 'C', 'C', 'C', 'C', 'C', 'G', 'T', 'G', 'G', 'A', 'A', 'C', 'C', 'T', 'C', 'T', 'G', 'T', 'T', 'A', 'T', 'G', 'G', 'G', 'A', 'T', 'T', 'C', 'G', 'C', 'A', 'C', 'C', 'G', 'C', 'G', 'T', 'C', 'A', 'G', 'T', 'G', 'C', 'G', 'A', 'T', 'C', 'G', 'T', 'G', 'T', 'A', 'A', 'G', 'A', 'C', 'A', 'G', 'C', 'T', 'G', 'G', 'T', 'T', 'T', 'G', 'C', 'T', 'A', 'T', 'T', 'C', 'A', 'A', 'G', 'T', 'C', 'C', 'A', 'G', 'T', 'T', 'T', 'G', 'A', 'T', 'G', 'G', 'T', 'T', 'T', 'G', 'A', 'C', 'A', 'T', 'G', 'A', 'C', 'G', 'T', 'G', 'G', 'A', 'A', 'A', 'T', 'G', 'G', 'T', 'T', 'T', 'C', 'T', 'T', 'T', 'C', 'C', 'T', 'C', 'G', 'C', 'G', 'G', 'G', 'G', 'T', 'A', 'T', 'A', 'A', 'G', 'G', 'A', 'T', 'T', 'C', 'T', 'C', 'A', 'T', 'C', 'A', 'C', 'A', 'A', 'T', 'A', 'C', 'T', 'C', 'T', 'C', 'A', 'C', 'C', 'T', 'T', 'G', 'A', 'T', 'A', 'A', 'C', 'C', 'G', 'C', 'A', 'C', 'T', 'A', 'G', 'G', 'A', 'G', 'T', 'T', 'T', 'C', 'C', 'G', 'C', 'A', 'T', 'A', 'A', 'T', 'A', 'C', 'A', 'A', 'T', 'G', 'T', 'A', 'G', 'C', 'G', 'C', 'C', 'G', 'G', 'G', 'T', 'G', 'G', 'T', 'A', 'G', 'G', 'G', 'C', 'T', 'G', 'G', 'G', 'A', 'A', 'A', 'A', 'C', 'C', 'C', 'C', 'T', 'T', 'C', 'G', 'G', 'A', 'C', 'T', 'T', 'C', 'G', 'G', 'C', 'G', 'C', 'T', 'A', 'A', 'C', 'G', 'G', 'G', 'A', 'C', 'A', 'A', 'C', 'C', 'G', 'C', 'C', 'A', 'G', 'C', 'G', 'G', 'T', 'G', 'C', 'C', 'A', 'T', 'T', 'A', 'T', 'G', 'G', 'G', 'T', 'C', 'A', 'A', 'C', 'A', 'A', 'T', 'A', 'T', 'C', 'T', 'T', 'A', 'G', 'C', 'C', 'A', 'A', 'C', 'T', 'G', 'G', 'C', 'G', 'A', 'G', 'A', 'T', 'G', 'G', 'G', 'T', 'T', 'C', 'A', 'T', 'C', 'A', 'A', 'A', 'A', 'C', 'T', 'C', 'C', 'C', 'T', 'G', 'C', 'C', 'A', 'G', 'A', 'C', 'G', 'C', 'T', 'T', 'T', 'G', 'C', 'G', 'C', 'T', 'A', 'T', 'C', 'A', 'T', 'G', 'G', 'G', 'G', 'C', 'A', 'T', 'A', 'G', 'T', 'G', 'T', 'C', 'A', 'A', 'G', 'G', 'T', 'G', 'C', 'T', 'A', 'T', 'A', 'C', 'A', 'A', 'G', 'C', 'G', 'A', 'A', 'C', 'T', 'T', 'A', 'C', 'A', 'G', 'C', 'A', 'C', 'T', 'T', 'G', 'G', 'G', 'A', 'T', 'A', 'T', 'T', 'C', 'G', 'C', 'C', 'C', 'A', 'C', 'T', 'T', 'T', 'C', 'C', 'T', 'C', 'T', 'C', 'G', 'T', 'G', 'A', 'T', 'A', 'T', 'G', 'T', 'A', 'G', 'C', 'C', 'T', 'C', 'T', 'A', 'A', 'G', 'G', 'C', 'T', 'G', 'T', 'C', 'A', 'T', 'G', 'A', 'C', 'C', 'A', 'A', 'T', 'C', 'G', 'A', 'T', 'C', 'C', 'A', 'A', 'A', 'A', 'G', 'T', 'A', 'G', 'C', 'A', 'T', 'A', 'G', 'G', 'A', 'C', 'T', 'G', 'C', 'C', 'G', 'C', 'A', 'A', 'A', 'G', 'G', 'A', 'A', 'A', 'G', 'A', 'T', 'T', 'A', 'A', 'C', 'G', 'T', 'G', 'T', 'T', 'T', 'C', 'C', 'G', 'A', 'A', 'A', 'T', 'G', 'G', 'C', 'T', 'G', 'C', 'C', 'A', 'G', 'C', 'T', 'G', 'T', 'C', 'T', 'G', 'T', 'G', 'G', 'C', 'T', 'T', 'T', 'G', 'T', 'T', 'A', 'G', 'G', 'G', 'G', 'T', 'T', 'G', 'A', 'T', 'T', 'C', 'G', 'A', 'T', 'G', 'A', 'A', 'T', 'G', 'G', 'G', 'A', 'G', 'C', 'A', 'T', 'A', 'A', 'T', 'A', 'G', 'G', 'A', 'A', 'G', 'G', 'A', 'C', 'A', 'C', 'A', 'G', 'G', 'T', 'C', 'C', 'C', 'C', 'C', 'G', 'G', 'A', 'A', 'G', 'C', 'C', 'C', 'T', 'C', 'T', 'C', 'G', 'T', 'G', 'C', 'T', 'G', 'G', 'C', 'T', 'G', 'A', 'A', 'T', 'C', 'T', 'G', 'C', 'G', 'G', 'C', 'G', 'G', 'T', 'T', 'C', 'C', 'G', 'G', 'C', 'C', 'C', 'G', 'T', 'G', 'A', 'A', 'G', 'T', 'C', 'C', 'G', 'C', 'T', 'A', 'T', 'G', 'G', 'T', 'C', 'A', 'C', 'T', 'A', 'T', 'G', 'T', 'T', 'A', 'G', 'C', 'T', 'T', 'C', 'G', 'A', 'G', 'T', 'T', 'A', 'A', 'T', 'C', 'T', 'G', 'C', 'A', 'C', 'G', 'T', 'C', 'A', 'T', 'T', 'T', 'G', 'G', 'C', 'T', 'T', 'C', 'T', 'C', 'A', 'A', 'C', 'T', 'A', 'A', 'C', 'G', 'A', 'T', 'G', 'G', 'C', 'G', 'A', 'A', 'C', 'T', 'A', 'A', 'A', 'G', 'G', 'A', 'G', 'C', 'G', 'G', 'C', 'C', 'A', 'C', 'T', 'G', 'G', 'G', 'C', 'G', 'A', 'C', 'T', 'T', 'T', 'G', 'A', 'G', 'C', 'A', 'A', 'T', 'C', 'G', 'G', 'A', 'G', 'G', 'T', 'G', 'A', 'G', 'C', 'A', 'A', 'G', 'A', 'A', 'G', 'C', 'A', 'G', 'A', 'T', 'A', 'G', 'G', 'G', 'G', 'A', 'G', 'T', 'A', 'T', 'T', 'G', 'A', 'T', 'G', 'A', 'G', 'A', 'A', 'C', 'G', 'C', 'C', 'C', 'A', 'A', 'C', 'T', 'A', 'G', 'T', 'T', 'G', 'G', 'G', 'G', 'A', 'T', 'G', 'G', 'C', 'C', 'T', 'C', 'C', 'A', 'G', 'A', 'A', 'C', 'A', 'G', 'A', 'T', 'A', 'A', 'G', 'A', 'A', 'A', 'T', 'A', 'A', 'T', 'G', 'A', 'T', 'G', 'G', 'G', 'A', 'C', 'T', 'T', 'G', 'A', 'C', 'C', 'G', 'G', 'G', 'A', 'A', 'T', 'G', 'G', 'A', 'G', 'C', 'A', 'C', 'G', 'T', 'T', 'A', 'G', 'T', 'A', 'C', 'A', 'C', 'A', 'G', 'A', 'G', 'T', 'A', 'A', 'C', 'A', 'G', 'G', 'A', 'G', 'A', 'G', 'A', 'T', 'G', 'C', 'A', 'C', 'T', 'C', 'C', 'G', 'T', 'A', 'G', 'T', 'T', 'A', 'C', 'A', 'T', 'A', 'A', 'G', 'A', 'C', 'A', 'T', 'A', 'C', 'G', 'T', 'G', 'A', 'T', 'G', 'G', 'G', 'T', 'A', 'G', 'G', 'C', 'G', 'T', 'T', 'A', 'A', 'C', 'A', 'G', 'G', 'C', 'T', 'T', 'C', 'C', 'T', 'G', 'G', 'A', 'G', 'C', 'T', 'G', 'C', 'T', 'T', 'G', 'T', 'T', 'C', 'G', 'T', 'T', 'C', 'A', 'G', 'C', 'A', 'G', 'C', 'G', 'C', 'G', 'A', 'A', 'A', 'A', 'A', 'G', 'C', 'A', 'C', 'C', 'T', 'G', 'G', 'C', 'T', 'C', 'T', 'A', 'C', 'A', 'T', 'A', 'T', 'A', 'T', 'G', 'A', 'T', 'G', 'T', 'G', 'C', 'G', 'G', 'T', 'C', 'G', 'G', 'C', 'A', 'G', 'G', 'A', 'G', 'A', 'C', 'T', 'C', 'A', 'C', 'T', 'A', 'A', 'G', 'A', 'T', 'C', 'C', 'T', 'A', 'A', 'G', 'G', 'G', 'G', 'C', 'G', 'A', 'T', 'C', 'A', 'A', 'A', 'A', 'G', 'G', 'A', 'A', 'T', 'C', 'G', 'C', 'A', 'C', 'A', 'C', 'A', 'A', 'C', 'C', 'G', 'C', 'G', 'C', 'C', 'T', 'A', 'C', 'A', 'C', 'A', 'T', 'A', 'A', 'G', 'G', 'A', 'T', 'G', 'G', 'C', 'T', 'C', 'T', 'G', 'G', 'A', 'C', 'G', 'C', 'G', 'A', 'C', 'G', 'C', 'T', 'G', 'G', 'T', 'C', 'A', 'G', 'C', 'G', 'T', 'G', 'T', 'G', 'G', 'T', 'C', 'A', 'G', 'A', 'T', 'C', 'G', 'A', 'C', 'G', 'A', 'T', 'T', 'C', 'T', 'A', 'C', 'T', 'T', 'T', 'C', 'G', 'A', 'A', 'C', 'C', 'A', 'C', 'A', 'A', 'T', 'C', 'G', 'C', 'A', 'G', 'A', 'G', 'G', 'T', 'C', 'C', 'G', 'A', 'G', 'G', 'C', 'C', 'C', 'G', 'A', 'A', 'C', 'G', 'T', 'C', 'G', 'A', 'T', 'G', 'A', 'C', 'A', 'C', 'A', 'T', 'C', 'G', 'G', 'C', 'T', 'A', 'T', 'T', 'C', 'A', 'C', 'C', 'C', 'T', 'C', 'A', 'G', 'A', 'T', 'A', 'A', 'T', 'G', 'A', 'T', 'G', 'A', 'G', 'C', 'C', 'C', 'T', 'T', 'A', 'T', 'C', 'T', 'G', 'C', 'A', 'G', 'C', 'C', 'G', 'C', 'A', 'A', 'G', 'A', 'T', 'G', 'G', 'T', 'A', 'A', 'G', 'G', 'G', 'A', 'G', 'C', 'G', 'C', 'A', 'A', 'C', 'A', 'C', 'C', 'T', 'T', 'C', 'G', 'A', 'T', 'A', 'T', 'T', 'A', 'G', 'A', 'C', 'T', 'T', 'T', 'A', 'C', 'C', 'C', 'A', 'A', 'G', 'T', 'T', 'T', 'G', 'C', 'G', 'C', 'G', 'G', 'T', 'C', 'C', 'A', 'A', 'G', 'A', 'G', 'T', 'C', 'A', 'T', 'A', 'C', 'T', 'T', 'C', 'T', 'A', 'G', 'G', 'G', 'C', 'G', 'T', 'T', 'G', 'A', 'G', 'G', 'T', 'C', 'A', 'T', 'T', 'T', 'G', 'C', 'G', 'C', 'A', 'G', 'C', 'T', 'T', 'C', 'G', 'T', 'A', 'G', 'T', 'A', 'G', 'T', 'A', 'T', 'A', 'G', 'G', 'G', 'C', 'G', 'G', 'C', 'T', 'A', 'T', 'A', 'A', 'A', 'C', 'T', 'A', 'G', 'G', 'T', 'A', 'G', 'T', 'A', 'C', 'C', 'C', 'A', 'A', 'G', 'T', 'G', 'T', 'C', 'G', 'C', 'A', 'G', 'G', 'T', 'G', 'G', 'A', 'T', 'T', 'G', 'C', 'C', 'G', 'T', 'C', 'C', 'A', 'T', 'C', 'A', 'T', 'A', 'C', 'A', 'T', 'C', 'G', 'T', 'G', 'G', 'T', 'A', 'C', 'C', 'A', 'G', 'G', 'A', 'A', 'C', 'A', 'G', 'T', 'G', 'C', 'G', 'T', 'T', 'C', 'T', 'A', 'A', 'C', 'C', 'C', 'G', 'T', 'G', 'A', 'C', 'A', 'A', 'C', 'A', 'C', 'C', 'T', 'G', 'G', 'C', 'T', 'G', 'C', 'G', 'G', 'T', 'C', 'A', 'G', 'A', 'G', 'A', 'T', 'A', 'G', 'A', 'G', 'A', 'G', 'C', 'G', 'G', 'T', 'T', 'A', 'G', 'A', 'T', 'G', 'C', 'C', 'A', 'C', 'T', 'A', 'A', 'A', 'T', 'C', 'C', 'A', 'G', 'T', 'G', 'T', 'C', 'A', 'T', 'T', 'T', 'A', 'G', 'G', 'C', 'A', 'C', 'T', 'T', 'T', 'A', 'G', 'C', 'C', 'A', 'C', 'G', 'A', 'A', 'G', 'A', 'G', 'T', 'G', 'A', 'A', 'C', 'C', 'T', 'G', 'T', 'G', 'A', 'G', 'A', 'G', 'T', 'G', 'T', 'A', 'T', 'T', 'G', 'T', 'G', 'C', 'G', 'T', 'A', 'T', 'G', 'A', 'C', 'A', 'A', 'G', 'G', 'T', 'T', 'G', 'G', 'G', 'T', 'C', 'C', 'C', 'A', 'T', 'A', 'A', 'G', 'A', 'G', 'G', 'A', 'T', 'G', 'G', 'A', 'T', 'A', 'T', 'A', 'A', 'A', 'T', 'T', 'T', 'A', 'A', 'T', 'C', 'T', 'T', 'G', 'T', 'T', 'G', 'T', 'T', 'T', 'A', 'C', 'T', 'C', 'A', 'A', 'A', 'A', 'T', 'C', 'A', 'G', 'A', 'A', 'G', 'G', 'G', 'T', 'T', 'A', 'T', 'G', 'G', 'G', 'A', 'A', 'A', 'G', 'T', 'G', 'C', 'T', 'C', 'T', 'C', 'A', 'T', 'C', 'C', 'C', 'C', 'T', 'G', 'G', 'A', 'G', 'G', 'C', 'A', 'C', 'G', 'G', 'A', 'T', 'A', 'T', 'G', 'G', 'G', 'C', 'A', 'A', 'G', 'T', 'G', 'C', 'C', 'G', 'A', 'C', 'G', 'T', 'G', 'T', 'A', 'T', 'A', 'T', 'T', 'C', 'T', 'A', 'G', 'A', 'C', 'C', 'T', 'G', 'T', 'A', 'C', 'T', 'A', 'C', 'T', 'A', 'G', 'A', 'G', 'A', 'C', 'A', 'C', 'C', 'T', 'G', 'G', 'T', 'A', 'G', 'A', 'T', 'A', 'T', 'T', 'C', 'T', 'A', 'C', 'T', 'T', 'G', 'T', 'G', 'C', 'T', 'G', 'G', 'C', 'A', 'T', 'A', 'G', 'G', 'C', 'T', 'T', 'T', 'C', 'G', 'C', 'C', 'G', 'A', 'G', 'T', 'G', 'A', 'A', 'G', 'T', 'C', 'A', 'G', 'C', 'G', 'T', 'C', 'T', 'C', 'A', 'A', 'G', 'A', 'A', 'T', 'G', 'A', 'T', 'A', 'A', 'G', 'A', 'T', 'G', 'G', 'T', 'T', 'G', 'T', 'C', 'T', 'T', 'C', 'C', 'G', 'C', 'C', 'G', 'G', 'A', 'T', 'C', 'A', 'A', 'G', 'T', 'G', 'A', 'G', 'G', 'G', 'G', 'G', 'C', 'A', 'C', 'G', 'C', 'T', 'G', 'T', 'T', 'G', 'A', 'T', 'G', 'A', 'G', 'T', 'A', 'C', 'A', 'G', 'G', 'G', 'C', 'T', 'A', 'C', 'A', 'G', 'C', 'A', 'T', 'G', 'C', 'A', 'T', 'A', 'T', 'A', 'T', 'C', 'A', 'G', 'A', 'C', 'T', 'A', 'C', 'G', 'G', 'C', 'A', 'C', 'G', 'A', 'C', 'A', 'A', 'T', 'G', 'C', 'A', 'G', 'A', 'T', 'C', 'T', 'A', 'C', 'C', 'T', 'C', 'T', 'C', 'T', 'C', 'C', 'T', 'T', 'C', 'C', 'C', 'T', 'C', 'T', 'G', 'T', 'A', 'A', 'A', 'T', 'G', 'A', 'T', 'A', 'G', 'A', 'T', 'T', 'C', 'A', 'G', 'T', 'A', 'G', 'C', 'T', 'G', 'T', 'A', 'T', 'C', 'C', 'G', 'C', 'A', 'T', 'T', 'T', 'G', 'C', 'A', 'A', 'C', 'G', 'C', 'G', 'C', 'G', 'C', 'C', 'C', 'C', 'A', 'G', 'C', 'T', 'T', 'G', 'T', 'G', 'T', 'T', 'T', 'T', 'T', 'C', 'A', 'T', 'T', 'C', 'A', 'T', 'A', 'C', 'T', 'T', 'A', 'A', 'A', 'A', 'T', 'T', 'G', 'C', 'A', 'G', 'G', 'C', 'G', 'A', 'C', 'G', 'G', 'G', 'T', 'C', 'G', 'G', 'A', 'A', 'G', 'A', 'C', 'T', 'C', 'T', 'T', 'A', 'A', 'G', 'A', 'T', 'G', 'G', 'C', 'C', 'G', 'A', 'A', 'A', 'T', 'G', 'C', 'G', 'C', 'G', 'A', 'A', 'T', 'G', 'A', 'A', 'A', 'G', 'G', 'T', 'T', 'T', 'G', 'G', 'C', 'T', 'T', 'A', 'A', 'T', 'A', 'G', 'G', 'A', 'G', 'A', 'C', 'A', 'C', 'T', 'A', 'C', 'C', 'T', 'T', 'C', 'G', 'C', 'G', 'C', 'C', 'G', 'T', 'G', 'A', 'T', 'T', 'A', 'A', 'A', 'G', 'C', 'T', 'A', 'G', 'G', 'T', 'A', 'C', 'A', 'T', 'A', 'A', 'G', 'C', 'A', 'A', 'G', 'T', 'G', 'G', 'C', 'G', 'T', 'G', 'G', 'C', 'T', 'A', 'C', 'A', 'C', 'A', 'G', 'G', 'A', 'A', 'C', 'T', 'C', 'C', 'T', 'T', 'G', 'A', 'C', 'T', 'T', 'G', 'T', 'G', 'C', 'A', 'C', 'T', 'G', 'A', 'G', 'T', 'A', 'T', 'C', 'C', 'A', 'G', 'A', 'G', 'A', 'T', 'A', 'C', 'A', 'C', 'C', 'G', 'G', 'G', 'A', 'G', 'A', 'T', 'T', 'T', 'G', 'A', 'C', 'G', 'A', 'T', 'C', 'A', 'G', 'A', 'G', 'A', 'T', 'C', 'T', 'C', 'A', 'C', 'C', 'T', 'A', 'T', 'G', 'A', 'A', 'C', 'C', 'C', 'A', 'A', 'C', 'G', 'G', 'G', 'G', 'T', 'T', 'C', 'G', 'A', 'C', 'C', 'C', 'A', 'T', 'G', 'T', 'T', 'A', 'C', 'T', 'C', 'T', 'A', 'G', 'T', 'C', 'C', 'C', 'G', 'T', 'G', 'A', 'C', 'C', 'T', 'A', 'C', 'T', 'G', 'G', 'A', 'A', 'A', 'G', 'G', 'A', 'C', 'C', 'G', 'T', 'A', 'A', 'G', 'T', 'G', 'G', 'A', 'G', 'T', 'A', 'A', 'C', 'G', 'C', 'G', 'T', 'T', 'A', 'A', 'C', 'C', 'G', 'A', 'T', 'T', 'G', 'T', 'G', 'C', 'C', 'G', 'T', 'A', 'G', 'C', 'G', 'A', 'A', 'A', 'C', 'C', 'C', 'G', 'A', 'T', 'A', 'C', 'G', 'C', 'T', 'C', 'G', 'T', 'T', 'G', 'T', 'T', 'T', 'C', 'T', 'G', 'G', 'T', 'C', 'C', 'C', 'A', 'A', 'T', 'C', 'C', 'T', 'G', 'T', 'C', 'T', 'G', 'C', 'A', 'C', 'T', 'T', 'A', 'G', 'G', 'C', 'G', 'T', 'G', 'G', 'G', 'G', 'G', 'C', 'C', 'T', 'A', 'C', 'G', 'C', 'C', 'G', 'G', 'A', 'T', 'T', 'A', 'T', 'C', 'T', 'A', 'G', 'C', 'T', 'G', 'A', 'A', 'T', 'T', 'C', 'G', 'T', 'T', 'G', 'A', 'G', 'T', 'A', 'C', 'A', 'G', 'C', 'C', 'T', 'T', 'C', 'G', 'A', 'A', 'T', 'A', 'G', 'T', 'A', 'G', 'C', 'A', 'A', 'A', 'G', 'A', 'G', 'G', 'C', 'T', 'C', 'G', 'A', 'T', 'C', 'T', 'C', 'C', 'T', 'C', 'T', 'C', 'G', 'A', 'C', 'A', 'T', 'A', 'C', 'C', 'A', 'T', 'A', 'T', 'G', 'G', 'C', 'G', 'G', 'G', 'G', 'G', 'T', 'C', 'T', 'T', 'C', 'T', 'A', 'A', 'G', 'C', 'A', 'G', 'A', 'G', 'C', 'T', 'G', 'C', 'C', 'G', 'C', 'A', 'G', 'C', 'C', 'T', 'A', 'C', 'A', 'A', 'G', 'C', 'C', 'G', 'C', 'G', 'T', 'G', 'T', 'C', 'G', 'C', 'G', 'C', 'A', 'C', 'T', 'A', 'G', 'G', 'G', 'G', 'T', 'A', 'C', 'G', 'A', 'A', 'T', 'T', 'A', 'A', 'G', 'A', 'A', 'C', 'T', 'G', 'A', 'G', 'T', 'T', 'G', 'T', 'C', 'A', 'T', 'C', 'C', 'A', 'G', 'C', 'C', 'G', 'G', 'A', 'C', 'C', 'T', 'A', 'A', 'C', 'G', 'C', 'G', 'G', 'A', 'T', 'A', 'A', 'C', 'C', 'T', 'G', 'C', 'C', 'A', 'C', 'T', 'A', 'G', 'G', 'T', 'C', 'T', 'G', 'G', 'G', 'C', 'G', 'C', 'A', 'G', 'A', 'C', 'C', 'C', 'G', 'G', 'C', 'T', 'A', 'T', 'G', 'T', 'G', 'C', 'G', 'G', 'A', 'C', 'G', 'C', 'T', 'A', 'C', 'C', 'G', 'T', 'G', 'C', 'C', 'C', 'A', 'G', 'T', 'A', 'G', 'C', 'T', 'C', 'C', 'C', 'T', 'A', 'G', 'C', 'C', 'G', 'G', 'T', 'G', 'T', 'T', 'C', 'G', 'A', 'C', 'A', 'G', 'T', 'C', 'G', 'G', 'C', 'T', 'C', 'C', 'C', 'C', 'A', 'T', 'T', 'A', 'T', 'A', 'G', 'C', 'A', 'G', 'C', 'G', 'C', 'G', 'A', 'C', 'C', 'C', 'A', 'G', 'T', 'T', 'T', 'C', 'A', 'G', 'G', 'C', 'T', 'C', 'G', 'G', 'G', 'C', 'A', 'T', 'T', 'T', 'T', 'T', 'C', 'C', 'C', 'A', 'G', 'A', 'C', 'T', 'A', 'G', 'C', 'A', 'C', 'A', 'C', 'A', 'C', 'G', 'T', 'T', 'A', 'G', 'C', 'G', 'T', 'C', 'C', 'C', 'C', 'A', 'C', 'A', 'G', 'A', 'G', 'G', 'C', 'C', 'G', 'C', 'C', 'C', 'T', 'T', 'T', 'A', 'A', 'C', 'G', 'T', 'T', 'A', 'T', 'C', 'A', 'T', 'A', 'T', 'C', 'A', 'T', 'G', 'G', 'C', 'A', 'G', 'G', 'A', 'G', 'A', 'A', 'G', 'G', 'T', 'T', 'G', 'C', 'A', 'G', 'A', 'C', 'G', 'C', 'A', 'A', 'T', 'T', 'C', 'C', 'A', 'C', 'G', 'C', 'T', 'T', 'C', 'C', 'C', 'G', 'C', 'A', 'A', 'C', 'T', 'C', 'G', 'C', 'C', 'C', 'G', 'T', 'C', 'C', 'G', 'T', 'C', 'C', 'A', 'C', 'C', 'C', 'T', 'C', 'A', 'T', 'T', 'A', 'G', 'C', 'A', 'A', 'G', 'T', 'A', 'T', 'G', 'A', 'T', 'A', 'C', 'T', 'G', 'C', 'C', 'C', 'G', 'C', 'T', 'C', 'G', 'T', 'C', 'C', 'T', 'A', 'C', 'C', 'T', 'T', 'A', 'T', 'T', 'C', 'G', 'T', 'A', 'A', 'T', 'G', 'C', 'G', 'A', 'C', 'C', 'A', 'A', 'A', 'G', 'A', 'C', 'G', 'T', 'T', 'T', 'A', 'T', 'T', 'A', 'A', 'G', 'T', 'G', 'A', 'G', 'A', 'G', 'G', 'T', 'C', 'C', 'A', 'T', 'C', 'T', 'C', 'A', 'A', 'T', 'C', 'C', 'A', 'G', 'T', 'T', 'G', 'C', 'G', 'A', 'T', 'A', 'A', 'A', 'G', 'G', 'C', 'C', 'A', 'A', 'A', 'C', 'G', 'G', 'T', 'C', 'T', 'C', 'T', 'T', 'C', 'A', 'C', 'A', 'T', 'T', 'G', 'A', 'T', 'A', 'T', 'A', 'C', 'T', 'A', 'A', 'G', 'C', 'C', 'G', 'G', 'A', 'T', 'A', 'T', 'G', 'C', 'T', 'T', 'G', 'G', 'T', 'A', 'G', 'A', 'C', 'A', 'A', 'G', 'C', 'C', 'G', 'C', 'G', 'C', 'G', 'A', 'T', 'T', 'C', 'A', 'T', 'T', 'A', 'C', 'G', 'T', 'A', 'T', 'C', 'A', 'T', 'A', 'A', 'T', 'A', 'T', 'G', 'C', 'T', 'G', 'A', 'A', 'C', 'A', 'T', 'G', 'A', 'T', 'C', 'G', 'G', 'T', 'G', 'A', 'C', 'C', 'G', 'A', 'A', 'G', 'A', 'T', 'A', 'A', 'T', 'A', 'C', 'A', 'G', 'T', 'T', 'G', 'G', 'A', 'C', 'G', 'C', 'A', 'C', 'G', 'T', 'T', 'C', 'A', 'C', 'G', 'A', 'G', 'T', 'A', 'G', 'G', 'G', 'G', 'A', 'G', 'C', 'A', 'C', 'A', 'A', 'C', 'A', 'T', 'C', 'G', 'G', 'T', 'C', 'T', 'G', 'T', 'G', 'G', 'T', 'A', 'A', 'A', 'T', 'T', 'T', 'A', 'G', 'G', 'G', 'A', 'T', 'C', 'G', 'G', 'G', 'C', 'G', 'G', 'C', 'C', 'T', 'A', 'C', 'G', 'C', 'A', 'T', 'G', 'G', 'T', 'C', 'A', 'T', 'T', 'A', 'A', 'A', 'T', 'G', 'T', 'G', 'A', 'T', 'A', 'C', 'G', 'A', 'A', 'T', 'T', 'T', 'T', 'A', 'G', 'A', 'G', 'T', 'C', 'C', 'A', 'T', 'T', 'C', 'A', 'T', 'A', 'C', 'C', 'G', 'T', 'A', 'C', 'A', 'G', 'C', 'G', 'G', 'G', 'A', 'A', 'A', 'T', 'T', 'G', 'C', 'T', 'T', 'T', 'C', 'C', 'T', 'T', 'T', 'G', 'T', 'C', 'G', 'A', 'G', 'G', 'A', 'C', 'T', 'G', 'T', 'C', 'C', 'A', 'G', 'G', 'C', 'A', 'G', 'G', 'T', 'G', 'A', 'A', 'A', 'A', 'T', 'C', 'G', 'C', 'G', 'C', 'G', 'T', 'C', 'G', 'C', 'G', 'T', 'A', 'A', 'G', 'G', 'G', 'G', 'T', 'T', 'T', 'C', 'A', 'T', 'T', 'C', 'G', 'G', 'C', 'A', 'G', 'A', 'T', 'G', 'C', 'C', 'C', 'A', 'T', 'G', 'G', 'A', 'T', 'C', 'A', 'C', 'G', 'C', 'A', 'T', 'C', 'A', 'G', 'A', 'C', 'G', 'C', 'A', 'G', 'C', 'G', 'A', 'A', 'C', 'G', 'G', 'G', 'T', 'T', 'T', 'G', 'G', 'A', 'T', 'T', 'T', 'A', 'T', 'C', 'G', 'G', 'T', 'T', 'G', 'G', 'T', 'T', 'G', 'G', 'T', 'G', 'T', 'C', 'T', 'A', 'T', 'A', 'C', 'T', 'T', 'G', 'G', 'C', 'G', 'G', 'T', 'A', 'T', 'T', 'C', 'C', 'C', 'T', 'C', 'A', 'T', 'C', 'T', 'T', 'T', 'A', 'C', 'A', 'T', 'G', 'C', 'T', 'T', 'A', 'C', 'A', 'T', 'G', 'T', 'C', 'C', 'A', 'C', 'A', 'C', 'C', 'A', 'A', 'G', 'C', 'C', 'A', 'T', 'C', 'T', 'C', 'G', 'A', 'G', 'T', 'T', 'T', 'T', 'C', 'T', 'C', 'G', 'G', 'C', 'A', 'A', 'T', 'C', 'G', 'A', 'T', 'A', 'C', 'T', 'A', 'G', 'T', 'T', 'C', 'A', 'G', 'T', 'A', 'A', 'C', 'C', 'G', 'G', 'A', 'A', 'T', 'T', 'C', 'A', 'C', 'T', 'T', 'A', 'T', 'T', 'G', 'A', 'C', 'T', 'T', 'A', 'G', 'C', 'T', 'C', 'A', 'A', 'T', 'A', 'T', 'C', 'G', 'G', 'A', 'A', 'C', 'C', 'T', 'A', 'A', 'G', 'C', 'T', 'T', 'T', 'G', 'T', 'T', 'C', 'T', 'G', 'C', 'A', 'T', 'C', 'C', 'G', 'T', 'C', 'T', 'C', 'A', 'C', 'C', 'G', 'G', 'A', 'G', 'C', 'T', 'C', 'A', 'T', 'G', 'T', 'A', 'C', 'C', 'T', 'C', 'C', 'A', 'A', 'G', 'C', 'T', 'A', 'G', 'T', 'T', 'G', 'C', 'G', 'G', 'A', 'A', 'A', 'A', 'A', 'A', 'A', 'A', 'C', 'C', 'C', 'T', 'C', 'C', 'A', 'G', 'T', 'A', 'A', 'A', 'A', 'C', 'G', 'C', 'C', 'A', 'G', 'A', 'G', 'G', 'C', 'A', 'C', 'C', 'A', 'G', 'C', 'G', 'T', 'A', 'A', 'A', 'G', 'T', 'A', 'A', 'T', 'C', 'T', 'T', 'C', 'G', 'A', 'T', 'G', 'A', 'G', 'C', 'C', 'T', 'T', 'A', 'T', 'A', 'A', 'A', 'A', 'G', 'G', 'A', 'T', 'T', 'A', 'C', 'A', 'G', 'A', 'T', 'C', 'A', 'G', 'G', 'T', 'A', 'T', 'T', 'G', 'G', 'T', 'A', 'A', 'A', 'T', 'T', 'G', 'T', 'C', 'G', 'T', 'T', 'G', 'C', 'C', 'G', 'T', 'A', 'T', 'G', 'A', 'A', 'G', 'A', 'A', 'C', 'A', 'A', 'G', 'T', 'A', 'G', 'C', 'G', 'A', 'C', 'C', 'A', 'C', 'A', 'C', 'C', 'T', 'A', 'A', 'G', 'C', 'T', 'G', 'G', 'T', 'G', 'G', 'T', 'C', 'C', 'G', 'T', 'G', 'C', 'A', 'A', 'G', 'C', 'G', 'T', 'G', 'T', 'G', 'C', 'G', 'A', 'G', 'C', 'A', 'T', 'A', 'G', 'C', 'G', 'G', 'C', 'C', 'G', 'G', 'T', 'G', 'T', 'A', 'A', 'A', 'C', 'T', 'C', 'T', 'C', 'C', 'A', 'C', 'A', 'G', 'A', 'C', 'C', 'G', 'T', 'A', 'C', 'G', 'A', 'G', 'A', 'C', 'C', 'A', 'G', 'A', 'C', 'C', 'G', 'T', 'G', 'C', 'G', 'C', 'G', 'G', 'C', 'G', 'T', 'G', 'C', 'C', 'C', 'A', 'A', 'G', 'T', 'G', 'A', 'G', 'A', 'A', 'T', 'G', 'C', 'C', 'T', 'A', 'T', 'A', 'T', 'G', 'G', 'A', 'A', 'G', 'C', 'G', 'A', 'T', 'A', 'A', 'T', 'G', 'T', 'A', 'T', 'A', 'C', 'G', 'G', 'T', 'G', 'G', 'A', 'G', 'A', 'A', 'G', 'A', 'C', 'C', 'A', 'A', 'C', 'G', 'T', 'T', 'T', 'A', 'G', 'T', 'C', 'G', 'C', 'A', 'T', 'T', 'T', 'C', 'C', 'C', 'A', 'C', 'C', 'G', 'T', 'A', 'G', 'A', 'C', 'A', 'G', 'T', 'T', 'A', 'T', 'C', 'C', 'C', 'C', 'G', 'T', 'C', 'C', 'A', 'C', 'G', 'C', 'T', 'A', 'G', 'T', 'T', 'T', 'G', 'C', 'C', 'C', 'A', 'A', 'C', 'A', 'G', 'A', 'A', 'T', 'G', 'A', 'C', 'G', 'A', 'A', 'G', 'C', 'T', 'G', 'G', 'A', 'C', 'G', 'C', 'C', 'G', 'G', 'T', 'G', 'G', 'C', 'G', 'G', 'T', 'G', 'T', 'T', 'T', 'C', 'T', 'A', 'C', 'A', 'C', 'C', 'T', 'C', 'T', 'T', 'C', 'A', 'A', 'G', 'G', 'T', 'T', 'C', 'T', 'C', 'G', 'T', 'A', 'T', 'G', 'T', 'C', 'G', 'G', 'G', 'C', 'G', 'A', 'C', 'T', 'T', 'C', 'G', 'C', 'G', 'A', 'C', 'C', 'T', 'A', 'C', 'C', 'G', 'C', 'T', 'C', 'T', 'C', 'A', 'G', 'A', 'G', 'G', 'T', 'T', 'C', 'C', 'A', 'C', 'C', 'G', 'A', 'T', 'C', 'C', 'T', 'A', 'A', 'A', 'T', 'T', 'C', 'A', 'T', 'C', 'G', 'T', 'A', 'T', 'C', 'C', 'G', 'C', 'G', 'T', 'G', 'G', 'C', 'C', 'T', 'G', 'A', 'A', 'C', 'C', 'T', 'A', 'C', 'A', 'A', 'G', 'T', 'C', 'C', 'G', 'T', 'A', 'C', 'C', 'A', 'T', 'A', 'G', 'A', 'T', 'A', 'T', 'A', 'C', 'A', 'T', 'T', 'A', 'A', 'G', 'T', 'G', 'G', 'G', 'C', 'G', 'G', 'C', 'C', 'G', 'A', 'G', 'G', 'C', 'C', 'C', 'A', 'A', 'G', 'A', 'G', 'T', 'T', 'C', 'A', 'A', 'G', 'C', 'T', 'C', 'G', 'A', 'T', 'T', 'C', 'G', 'T', 'C', 'T', 'G', 'T', 'C', 'G', 'G', 'A', 'C', 'C', 'C', 'C', 'G', 'C', 'A', 'A', 'A', 'T', 'G', 'G', 'G', 'A', 'G', 'G', 'C', 'T', 'C', 'A', 'G', 'T', 'A', 'C', 'A', 'A', 'C', 'A', 'C', 'G', 'A', 'A', 'A', 'G', 'T', 'G', 'C', 'C', 'T', 'G', 'G', 'C', 'A', 'T', 'T', 'T', 'A', 'T', 'C', 'C', 'A', 'C', 'T', 'T', 'A', 'T', 'A', 'G', 'T', 'G', 'G', 'C', 'T', 'G', 'A', 'T', 'A', 'G', 'C', 'T', 'C', 'T', 'T', 'C', 'C', 'G', 'T', 'G', 'G', 'A', 'G', 'A', 'T', 'A', 'T', 'A', 'T', 'G', 'T', 'G', 'T', 'C', 'A', 'C', 'C', 'T', 'T', 'G', 'G', 'T', 'A', 'T', 'A', 'A', 'C', 'T', 'A', 'A', 'A', 'G', 'A', 'T', 'A', 'C', 'G', 'A', 'G', 'C', 'T', 'C', 'C', 'C', 'A', 'A', 'T', 'C', 'T', 'C', 'C', 'A', 'C', 'T', 'A', 'G', 'C', 'T', 'C', 'C', 'C', 'C', 'T', 'G', 'C', 'A', 'C', 'C', 'C', 'G', 'T', 'G', 'C', 'C', 'A', 'T', 'T', 'A', 'A', 'G', 'T', 'A', 'C', 'C', 'G', 'T', 'C', 'A', 'C', 'T', 'G', 'G', 'G', 'G', 'A', 'C', 'C', 'T', 'A', 'T', 'G', 'T', 'T', 'G', 'C', 'G', 'A', 'A', 'A', 'T', 'C', 'A', 'C', 'C', 'T', 'T', 'G', 'A', 'G', 'A', 'C', 'C', 'G', 'G', 'T', 'C', 'G', 'A', 'T', 'T', 'A', 'T', 'C', 'T', 'G', 'G', 'T', 'G', 'G', 'A', 'C', 'G', 'C', 'C', 'C', 'G', 'G', 'T', 'A', 'G', 'T', 'C', 'G', 'A', 'T', 'C', 'T', 'A', 'T', 'G', 'T', 'A', 'G', 'G', 'G', 'G', 'C', 'C', 'G', 'G', 'A', 'T', 'A', 'A', 'C', 'T', 'A', 'T', 'C', 'G', 'G', 'T', 'A', 'T', 'A', 'G', 'T', 'T', 'A', 'C', 'C', 'G', 'A', 'A', 'C', 'A', 'G', 'G', 'T', 'C', 'T', 'T', 'A', 'G', 'A', 'G', 'G', 'A', 'C', 'C', 'A', 'G', 'C', 'C', 'G', 'G', 'A', 'C', 'G', 'T', 'G', 'T', 'A', 'T', 'A', 'C', 'C', 'G', 'T', 'G', 'T', 'T', 'T', 'A', 'G', 'G', 'T', 'T', 'A', 'T', 'G', 'T', 'G', 'A', 'C', 'A', 'C', 'T', 'T', 'C', 'G', 'G', 'C', 'G', 'A', 'A', 'C', 'C', 'A', 'A', 'C', 'G', 'C', 'T', 'A', 'G', 'C', 'C', 'T', 'G', 'A', 'C', 'T', 'G', 'G', 'C', 'G', 'G', 'T', 'G', 'C', 'T', 'A', 'G', 'G', 'A', 'C', 'T', 'A', 'G', 'A', 'C', 'G', 'C', 'T', 'C', 'C', 'C', 'G', 'A', 'C', 'T', 'T', 'C', 'G', 'T', 'C', 'G', 'C', 'C', 'A', 'G', 'A', 'T', 'T', 'C', 'A', 'T', 'T', 'A', 'A', 'T', 'C', 'G', 'C', 'C', 'G', 'A', 'A', 'C', 'C', 'T', 'G', 'G', 'C', 'G', 'G', 'C', 'G', 'T', 'A', 'C', 'T', 'G', 'A', 'C', 'C', 'C', 'C', 'G', 'T', 'G', 'C', 'T', 'T', 'C', 'C', 'G', 'C', 'G', 'G', 'G', 'C', 'T', 'T', 'T', 'T', 'C', 'C', 'G', 'C', 'A', 'G', 'T', 'T', 'T', 'C', 'A', 'G', 'C', 'T', 'T', 'C', 'T', 'C', 'A', 'T', 'C', 'T', 'T', 'A', 'T', 'A', 'T', 'A', 'G', 'C', 'G', 'T', 'G', 'C', 'T', 'A', 'A', 'C', 'C', 'T', 'T', 'G', 'A', 'C', 'G', 'A', 'C', 'G', 'A', 'G', 'G', 'T', 'T', 'G', 'C', 'A', 'T', 'T', 'C', 'G', 'T', 'T', 'A', 'T', 'T', 'C', 'G', 'G', 'C', 'G', 'T', 'G', 'T', 'C', 'A', 'T', 'G', 'T', 'G', 'A', 'C', 'A', 'C', 'A', 'C', 'G', 'T', 'A', 'T', 'T', 'T', 'C', 'G', 'C', 'C', 'C', 'G', 'C', 'T', 'T', 'T', 'A', 'C', 'A', 'A', 'A', 'A', 'T', 'T', 'C', 'C', 'C', 'A', 'A', 'T', 'C', 'T', 'C', 'G', 'A', 'T', 'A', 'T', 'T', 'A', 'C', 'G', 'T', 'G', 'G', 'T', 'A', 'A', 'A', 'T', 'A', 'G', 'A', 'G', 'T', 'G', 'T', 'G', 'G', 'T', 'T', 'G', 'A', 'A', 'A', 'C', 'A', 'A', 'G', 'C', 'G', 'T', 'G', 'A', 'T', 'A', 'A', 'C', 'G', 'C', 'T', 'T', 'T', 'A', 'A', 'T', 'G', 'G', 'G', 'A', 'C', 'A', 'A', 'G', 'G', 'C', 'G', 'T', 'T', 'C', 'C', 'A', 'T', 'A', 'G', 'G', 'A', 'G', 'A', 'T', 'G', 'A', 'C', 'T', 'G', 'C', 'T', 'T', 'T', 'G', 'A', 'T', 'G', 'T', 'C', 'C', 'C', 'G', 'T', 'G', 'G', 'A', 'G', 'G', 'A', 'A', 'T', 'A', 'G', 'T', 'C', 'T', 'G', 'T', 'C', 'A', 'G', 'A', 'T', 'A', 'T', 'C', 'C', 'G', 'T', 'G', 'G', 'G', 'G', 'G', 'T', 'T', 'A', 'C', 'T', 'A', 'A', 'A', 'C', 'C', 'T', 'G', 'G', 'T', 'A', 'T', 'A', 'T', 'C', 'C', 'G', 'G', 'T', 'C', 'A', 'C', 'A', 'G', 'G', 'C', 'C', 'T', 'A', 'C', 'C', 'C', 'T', 'G', 'A', 'A', 'C', 'A', 'A', 'A', 'G', 'C', 'T', 'A', 'A', 'T', 'T', 'A', 'C', 'C', 'G', 'G', 'T', 'T', 'T', 'G', 'A', 'G', 'G', 'A', 'T', 'A', 'C', 'T', 'G', 'T', 'T', 'C', 'G', 'C', 'C', 'A', 'C', 'A', 'T', 'C', 'G', 'T', 'T', 'T', 'C', 'A', 'G', 'C', 'C', 'A', 'A', 'T', 'T', 'A', 'C', 'G', 'G', 'C', 'G', 'C', 'A', 'C', 'T', 'A', 'A', 'G', 'C', 'A', 'T', 'T', 'G', 'G', 'T', 'G', 'G', 'C', 'A', 'T', 'T', 'T', 'G', 'G', 'T', 'G', 'T', 'C', 'A', 'A', 'T', 'G', 'C', 'A', 'C', 'T', 'G', 'A', 'A', 'C', 'C', 'A', 'A']\n"
     ]
    }
   ],
   "source": [
    "import random as rn\n",
    "R = [rn.choice(['A','T','G','C']) for i in range (10000)]\n",
    "print(R)"
   ]
  },
  {
   "cell_type": "code",
   "execution_count": 5,
   "metadata": {},
   "outputs": [
    {
     "data": {
      "text/plain": [
       "'ACCTGGTTTCATGCCAGCGGGAAAATACGCCCTTCACGAATTTGGTGGCTACGCGCCGACGAGGTCCGCCACCCAATCACCTGGTATACGGTTATGGGGCAACTTCTTAGCACAGGATTCTCAGAGACCAATCAATCAAATATGATGCGCCCAACGCTTTAACAAAAACCAACCCACCCCACAAGTGCCGCGAATGTCAACGATTTCGTCACCGCTCTCCACCCCGACGGAATGTTGGTATAAGCTGCAGTCGCTTGATCTTGCTGACTTATGATTGCGTACTGAGGCGTGAATAACCTTACTCGGTTCTGTATAACACTAAGGTTTCTAACAAAGTCGCGTGCAGTAGCTTATTCTATGAGCCAAACGAACTGAGAATTGCTGGAATCCAGGGCTCATGCTGTCACCCCGGATTAGACGACTTGTGTTTTGGACCGGTTTTCTGTAGTAGGGGATTGCCGTTAGGACCATCTCAAACCTAGAGTGACGGGGACGATGTCGAAGCGTCCAATATTAGGAAAAATGGTGGCGGCGACGCATTAACCAAAGCCTGATCGAGGAAGGACCGTATGTAACTGCTGGTTGCTGCCTGTAAAATATCTTGAGTATAGGCCCAGGGGGTATGAGAACCTACGTTGTATATAATTGGCCACAGGTACTGAGCCGCCTTATATCCCTCATGCTAAGGATTCTAGCCCATAAGAGCGACGCGCTTCTAAGCGCAGGCCCGAAGCATCGATCTCCCCCTGATATAGCGCACCGGGTGGCGTCTGGCAGGCGCGCATCGTAAATCGTATCAGCTACTGGAAGTCCCTTGTCGCTTGATATAGAGACCCGAGGGCATATTTGCTGCACGTGTCGTCCTGGTAAATGATATGTAAGAGTCGTACGTAGCCCCACTCGATTATATCTCATGCTGTACGCAGCCCAGCGCGCCCCTCCGCTCTTCCATGCAACTTTCGTGAGGGCTCGGGTTTCTCAACTCGTTAGTCTCAAACCGCACTCAATGATACACCTGAGGGGGGATACACAGCGTGTTAATAGAATCAGCGATAGTCAGCGATGCCTCATGTTTTCGCGACGTAAAAGCAGAATGCCCAAAGAAAACTGACGAGCGCCTGCTACAATCAGCAGATATCTGAAAGTGTTGCCGACCTATCAAGACGCTCTGATAACCCAGGATGGTTTCACGATCGATACTATGCCGCTTACTGCGTATTGCGTCATACCCTAAAACTTCAAAAAAGATGGCAAGAGCAGGCGCCATTGCTTCATGGGTCAGGGTCGGACCCCTTTCCACCGATCGAATTCCTCTAGTATGCTTAAGCGGGTCAGATGCACGGACGTAGGATCTCTTCGGCTGGGTGTGGGGTCCAACTGCTCCACCCTCCCAACGTGTAGTGGCCTTTAGAACGAGGGAACTCATAAGTAATGATACATTACCAGGTAAGCGAAACTCCTGTTAGGTAACCCTTGTATCCGTTCATCGTGGTTTACTTGTTTCTCGCAACTAGTGATACGTGTCTGGAGCTCAAATACACAGGCCAACCCTATCTGTCAATCAGCAGACTGAGTCGCAATCATTCTGTCGCGGTTACGAGTGGACCTTGTCGGCCGAAGGCAGCAAGTAGATGGGTCAGCTAAGGCTGGCAGTTCTGTCGAAGTCCGCATTCCAGCGAGTAACTCATAGTGATACGCATCATCTTCTAAGCGCGAGCGGCAAAGACCGGCGCATAGCGCGATGAAAGTAACGATAAGATCCCCGGGGCACTGTATACTAACGTCAAGTTGGTGGTGACCTGGGAAATATCTGCGAATGCAGTTCTCTTCGTTAATAGGGTCGAGGTGGGTAAGTGAACCGTACAAGTTTACGAGCAATCTGTCTCTCCATAGGTACTAGGTCATTCATGCAGCCAGCGAGTTCATAAAAAGGTGTTTTTGGCTACGCCGTCGCGATTAATCCTCTTCACAATAATAATTGATCTAGGGGTGGGGGCCCTAAAGTCGCACACGAATGCTCTTCTCGAGGCCAGCTTGCTGTCATAATCGCTCTCACGATCAGAATGATTATCATTCCCACAAATGATGTCGTAAACTAGGGAGCCAGGGTGTGCGGCATCAGCGCGATGAGTCGATGTAGACGTATTATTATATGGACAGAAAAGTTCCCAAACGCTGCGGGGAGTTCCTGACATTCCGACAGCCGGCGCAGGGAAAACATGCTAAGATCCTGCGGGTATTATATGGGTCGTAGCCGGAGTGTAGTTATTATCCGTTACGAATCTCTAAACAAGAACGTTGCATCACCGGATTATCATAAACTCCTCCTCGAATTCTCCCGTGTCACGCCAATAGATCAGATTTGCCTCTATCCACCTCCCGATAATTGCTGGCCAGTCCCTTCTCGTCTCTTTGTCATATGTTCCTTTTGATGTTCGTTAGATTAGGCGGAGATGGACACCTCCCGCTTACACTCCCGCAAAGGGTGGGTGTCGGGTAGTGGCACGCGTCCTTAGATTCGAGTCCGAGTGGGGAGGGCCTATGCCGCCAGACTGGTCATTGTTGTATCCGACTCTCGTTATACGTTAAGGGCTTCGCCATATGCAAGGTCAAATGTCAGGCGTGTCCCTGCTGTTGGTAGGTGAGGGTAGCCGAAATGGATTAATCCCCTCGGCACGCGATAGTCCGAGCCCATTTGACCATTGTCGGCGGTGACCTGGGCCGACGAGGGTCAAGGAGGGAAATTTACTAGTTCTGAACTGAATGTGTAAGGGTTGGAAAGCTGAATCGTCGATGCCTTTAGATTCCTCGTGTCAAGGTTCGCTCATCAAATTCCTCTTTTTCAGAATGCTGGTTAGCACATGTATCCAACTAGCATTGTATAGTTCTTAACTCTCTATGACAACATTGTCCAATTGTGCCAGGCCCGGGTGAAATTGATAGCCCGGTGGTGGAAATACACTGACTAACTTAATGCCGATATTCGACCGCACGTACTGTTGATTTCGTGCGCAAATGGTTTCTCGCCCTGACTGACACTCTGTGAGCCCTACATAGGGGTTGTAACTTCGATGCCCACGTGGCACAAACTATATCAATCGGTAATACCGGCAAATCGGCTGGTGCCATCCTCACTCCTGTGAACCTGACCAGGGATATCACGACTTGGCCCCGAATAGTAATCATAGACGGGATTGACCTAGAAAGGCCCTGCCCCCGCAACAGTCGTGGAAGTCAATAGCCGTTTCGATTAATGTGGGCTACTTAACCCGCCCCCCCAGTCAAAGATGCCGGAGTATTACATTCTAGTTGTGCACTAAGTCAACTTCGTGTCCCGTATCGAGTCATCATGTCTCGAAGGGGATGAGTGAAAGCACCACGGGAGCACACTTATCGCAGTCTTAATGGATCTTTATACTGTTGGAGGGGCAGTGGGCTAATGGTTTGTGAGGGGCCATAAAGATAACGACTAGCGGACCTTTAGTTATTTAAGGACTCATCGGTACGCGGTTGAAGTATACAAGAGCATCAGTTGAACACCAACTGTCCTCGTGATGCACAAGGTAGACATAGCTAAAGTATTCCTCCTAATTCTAACTGCGGACTTGAGGGCCTGGTGTAAGAGGACGATTCGAACGGTAGATGTCCCACTACCTACTATCACTCTGCAGGGTCAGATATCGTCTTATAGGGGCGCATGCGATCCGCTGGAAACTGCGGCGGTTGGGGAATCTAGGGCACTCCTGAGCGTCACTACTTTTTTCAACACTGCTCGGCTGTCACCGATTTAAGTAATTTAGCCATTAGCTCGTAAGGATGTCCCAGGGTCCCTCAGCGGTACGCGACTGCACACAAGTACAAATGCGTAGACCGACAGAAGTCTCGCTCGCCTGTTCACACTACACGAGGGTCCCACGACGTCCGCCCGGTCTAGCTGTAGTTCATTCGCGGATGGAGGTTCTAAGCCTACCAATTACGACTTGTTAACACTCCCCGAGCGCTTGGCGATATCGTCCGGGTACGCATCTAACTAAGTGTACGTAGGCTTTTGATCCAGAAATCTTTACCACCGTGGTTGCCATTCCTGCTTTGCTTGCTGCCGGAGAGAATACGTTCAGATACGTTCTCTCCGGGCGCTGTGCTACCATATTCGGCAGACTTAGGCAAGGGGTGAGATGTAATGGGACAATATCGGTGGAATATAAAAGACTCGCATGCAAAAATGAGGAGCTCTTGTATATTCGTGACATCCACTATCGGGGTTTCGTGGGTTGCTAAACTCTAGCCCAACAAACTAACCACTCGTGTGGGAGATTGGTGTAGCTCGCTCGTAGACAGCTTAGGGAGCTTGTCCAGCCCGAGTAAGCCATTTTACCGAGCCTAAGCGAGTGTGCCTGCAGACGGATACGCTAACGTGGTATAGGTCGCTCTAGCACCAGGATCTTGAGACATATTCGTAGGCCTTTGTGCTTTACTACGCAGACGGTGTAGAATTGAGTTCCCGATGCTAGCGGCTGATTAGATTGGTATTGGCAGAACATTTACGAGAAGATCGATCCACTTAGCAGTACGAGCGCCGAGCGGGGCCTTACTTGACATTTAACATGCTCGTGTCCTTTAGATAGCTCATGTAGAACCCAAAGTCCGCACTCTCGTCCTTGCAGTACTACTAGTGACTATATCCTTCCGCGCTATACGCAATGGGATCGCTACTATTCCGCCCCAGGCATGGTGTTTCCCTCCTGAGCCACGTTTTAGAACGGCCTTTTTGCCAACTCCTACTTCGAGCCAAACTGGACCGGCACTGTAGGGACGTACGTACATCGTCAACAGGGCCTTTGGGTCCGAAATTCCTTACGCCGTCCTAACGCCGGTCACACCAAAAACTGCAGGATGAAGTCAGGCCAATTATAGTGGTATAAGGGCTACTACTGTATTATACTTCAGGATGATTCGTCGGGAGAAAAGAATCGATGAGCGCTTCTCAACTGTAAGCCCAGAGTCAAATCTTATTGTCGGGATAGCTTCCTTGTTAATGGCGCTGTTCTCCAAAAGCATACTGTGCTTGCTCCAACCAGTTCCCCCTACCGACCTGAATCAATAGACACACCGGCGGTGCCGTCGAGTGCTCGCCCCTAGCGATATCACAGCGGCATTGCGGAGCCCATAGTAGATTGATACTAAACTTTCGCGGGAATTTTAAACGTGATGAGGCTTAAAGGTCAACCAGATCCCCCGTGGAACCTCTGTTATGGGATTCGCACCGCGTCAGTGCGATCGTGTAAGACAGCTGGTTTGCTATTCAAGTCCAGTTTGATGGTTTGACATGACGTGGAAATGGTTTCTTTCCTCGCGGGGTATAAGGATTCTCATCACAATACTCTCACCTTGATAACCGCACTAGGAGTTTCCGCATAATACAATGTAGCGCCGGGTGGTAGGGCTGGGAAAACCCCTTCGGACTTCGGCGCTAACGGGACAACCGCCAGCGGTGCCATTATGGGTCAACAATATCTTAGCCAACTGGCGAGATGGGTTCATCAAAACTCCCTGCCAGACGCTTTGCGCTATCATGGGGCATAGTGTCAAGGTGCTATACAAGCGAACTTACAGCACTTGGGATATTCGCCCACTTTCCTCTCGTGATATGTAGCCTCTAAGGCTGTCATGACCAATCGATCCAAAAGTAGCATAGGACTGCCGCAAAGGAAAGATTAACGTGTTTCCGAAATGGCTGCCAGCTGTCTGTGGCTTTGTTAGGGGTTGATTCGATGAATGGGAGCATAATAGGAAGGACACAGGTCCCCCGGAAGCCCTCTCGTGCTGGCTGAATCTGCGGCGGTTCCGGCCCGTGAAGTCCGCTATGGTCACTATGTTAGCTTCGAGTTAATCTGCACGTCATTTGGCTTCTCAACTAACGATGGCGAACTAAAGGAGCGGCCACTGGGCGACTTTGAGCAATCGGAGGTGAGCAAGAAGCAGATAGGGGAGTATTGATGAGAACGCCCAACTAGTTGGGGATGGCCTCCAGAACAGATAAGAAATAATGATGGGACTTGACCGGGAATGGAGCACGTTAGTACACAGAGTAACAGGAGAGATGCACTCCGTAGTTACATAAGACATACGTGATGGGTAGGCGTTAACAGGCTTCCTGGAGCTGCTTGTTCGTTCAGCAGCGCGAAAAAGCACCTGGCTCTACATATATGATGTGCGGTCGGCAGGAGACTCACTAAGATCCTAAGGGGCGATCAAAAGGAATCGCACACAACCGCGCCTACACATAAGGATGGCTCTGGACGCGACGCTGGTCAGCGTGTGGTCAGATCGACGATTCTACTTTCGAACCACAATCGCAGAGGTCCGAGGCCCGAACGTCGATGACACATCGGCTATTCACCCTCAGATAATGATGAGCCCTTATCTGCAGCCGCAAGATGGTAAGGGAGCGCAACACCTTCGATATTAGACTTTACCCAAGTTTGCGCGGTCCAAGAGTCATACTTCTAGGGCGTTGAGGTCATTTGCGCAGCTTCGTAGTAGTATAGGGCGGCTATAAACTAGGTAGTACCCAAGTGTCGCAGGTGGATTGCCGTCCATCATACATCGTGGTACCAGGAACAGTGCGTTCTAACCCGTGACAACACCTGGCTGCGGTCAGAGATAGAGAGCGGTTAGATGCCACTAAATCCAGTGTCATTTAGGCACTTTAGCCACGAAGAGTGAACCTGTGAGAGTGTATTGTGCGTATGACAAGGTTGGGTCCCATAAGAGGATGGATATAAATTTAATCTTGTTGTTTACTCAAAATCAGAAGGGTTATGGGAAAGTGCTCTCATCCCCTGGAGGCACGGATATGGGCAAGTGCCGACGTGTATATTCTAGACCTGTACTACTAGAGACACCTGGTAGATATTCTACTTGTGCTGGCATAGGCTTTCGCCGAGTGAAGTCAGCGTCTCAAGAATGATAAGATGGTTGTCTTCCGCCGGATCAAGTGAGGGGGCACGCTGTTGATGAGTACAGGGCTACAGCATGCATATATCAGACTACGGCACGACAATGCAGATCTACCTCTCTCCTTCCCTCTGTAAATGATAGATTCAGTAGCTGTATCCGCATTTGCAACGCGCGCCCCAGCTTGTGTTTTTCATTCATACTTAAAATTGCAGGCGACGGGTCGGAAGACTCTTAAGATGGCCGAAATGCGCGAATGAAAGGTTTGGCTTAATAGGAGACACTACCTTCGCGCCGTGATTAAAGCTAGGTACATAAGCAAGTGGCGTGGCTACACAGGAACTCCTTGACTTGTGCACTGAGTATCCAGAGATACACCGGGAGATTTGACGATCAGAGATCTCACCTATGAACCCAACGGGGTTCGACCCATGTTACTCTAGTCCCGTGACCTACTGGAAAGGACCGTAAGTGGAGTAACGCGTTAACCGATTGTGCCGTAGCGAAACCCGATACGCTCGTTGTTTCTGGTCCCAATCCTGTCTGCACTTAGGCGTGGGGGCCTACGCCGGATTATCTAGCTGAATTCGTTGAGTACAGCCTTCGAATAGTAGCAAAGAGGCTCGATCTCCTCTCGACATACCATATGGCGGGGGTCTTCTAAGCAGAGCTGCCGCAGCCTACAAGCCGCGTGTCGCGCACTAGGGGTACGAATTAAGAACTGAGTTGTCATCCAGCCGGACCTAACGCGGATAACCTGCCACTAGGTCTGGGCGCAGACCCGGCTATGTGCGGACGCTACCGTGCCCAGTAGCTCCCTAGCCGGTGTTCGACAGTCGGCTCCCCATTATAGCAGCGCGACCCAGTTTCAGGCTCGGGCATTTTTCCCAGACTAGCACACACGTTAGCGTCCCCACAGAGGCCGCCCTTTAACGTTATCATATCATGGCAGGAGAAGGTTGCAGACGCAATTCCACGCTTCCCGCAACTCGCCCGTCCGTCCACCCTCATTAGCAAGTATGATACTGCCCGCTCGTCCTACCTTATTCGTAATGCGACCAAAGACGTTTATTAAGTGAGAGGTCCATCTCAATCCAGTTGCGATAAAGGCCAAACGGTCTCTTCACATTGATATACTAAGCCGGATATGCTTGGTAGACAAGCCGCGCGATTCATTACGTATCATAATATGCTGAACATGATCGGTGACCGAAGATAATACAGTTGGACGCACGTTCACGAGTAGGGGAGCACAACATCGGTCTGTGGTAAATTTAGGGATCGGGCGGCCTACGCATGGTCATTAAATGTGATACGAATTTTAGAGTCCATTCATACCGTACAGCGGGAAATTGCTTTCCTTTGTCGAGGACTGTCCAGGCAGGTGAAAATCGCGCGTCGCGTAAGGGGTTTCATTCGGCAGATGCCCATGGATCACGCATCAGACGCAGCGAACGGGTTTGGATTTATCGGTTGGTTGGTGTCTATACTTGGCGGTATTCCCTCATCTTTACATGCTTACATGTCCACACCAAGCCATCTCGAGTTTTCTCGGCAATCGATACTAGTTCAGTAACCGGAATTCACTTATTGACTTAGCTCAATATCGGAACCTAAGCTTTGTTCTGCATCCGTCTCACCGGAGCTCATGTACCTCCAAGCTAGTTGCGGAAAAAAAACCCTCCAGTAAAACGCCAGAGGCACCAGCGTAAAGTAATCTTCGATGAGCCTTATAAAAGGATTACAGATCAGGTATTGGTAAATTGTCGTTGCCGTATGAAGAACAAGTAGCGACCACACCTAAGCTGGTGGTCCGTGCAAGCGTGTGCGAGCATAGCGGCCGGTGTAAACTCTCCACAGACCGTACGAGACCAGACCGTGCGCGGCGTGCCCAAGTGAGAATGCCTATATGGAAGCGATAATGTATACGGTGGAGAAGACCAACGTTTAGTCGCATTTCCCACCGTAGACAGTTATCCCCGTCCACGCTAGTTTGCCCAACAGAATGACGAAGCTGGACGCCGGTGGCGGTGTTTCTACACCTCTTCAAGGTTCTCGTATGTCGGGCGACTTCGCGACCTACCGCTCTCAGAGGTTCCACCGATCCTAAATTCATCGTATCCGCGTGGCCTGAACCTACAAGTCCGTACCATAGATATACATTAAGTGGGCGGCCGAGGCCCAAGAGTTCAAGCTCGATTCGTCTGTCGGACCCCGCAAATGGGAGGCTCAGTACAACACGAAAGTGCCTGGCATTTATCCACTTATAGTGGCTGATAGCTCTTCCGTGGAGATATATGTGTCACCTTGGTATAACTAAAGATACGAGCTCCCAATCTCCACTAGCTCCCCTGCACCCGTGCCATTAAGTACCGTCACTGGGGACCTATGTTGCGAAATCACCTTGAGACCGGTCGATTATCTGGTGGACGCCCGGTAGTCGATCTATGTAGGGGCCGGATAACTATCGGTATAGTTACCGAACAGGTCTTAGAGGACCAGCCGGACGTGTATACCGTGTTTAGGTTATGTGACACTTCGGCGAACCAACGCTAGCCTGACTGGCGGTGCTAGGACTAGACGCTCCCGACTTCGTCGCCAGATTCATTAATCGCCGAACCTGGCGGCGTACTGACCCCGTGCTTCCGCGGGCTTTTCCGCAGTTTCAGCTTCTCATCTTATATAGCGTGCTAACCTTGACGACGAGGTTGCATTCGTTATTCGGCGTGTCATGTGACACACGTATTTCGCCCGCTTTACAAAATTCCCAATCTCGATATTACGTGGTAAATAGAGTGTGGTTGAAACAAGCGTGATAACGCTTTAATGGGACAAGGCGTTCCATAGGAGATGACTGCTTTGATGTCCCGTGGAGGAATAGTCTGTCAGATATCCGTGGGGGTTACTAAACCTGGTATATCCGGTCACAGGCCTACCCTGAACAAAGCTAATTACCGGTTTGAGGATACTGTTCGCCACATCGTTTCAGCCAATTACGGCGCACTAAGCATTGGTGGCATTTGGTGTCAATGCACTGAACCAA'"
      ]
     },
     "execution_count": 5,
     "metadata": {},
     "output_type": "execute_result"
    }
   ],
   "source": [
    "DNA = ''.join(R)\n",
    "DNA"
   ]
  },
  {
   "cell_type": "code",
   "execution_count": 11,
   "metadata": {},
   "outputs": [
    {
     "data": {
      "text/plain": [
       "(2481, 2546, 588, 636, 651, 161, 484)"
      ]
     },
     "execution_count": 11,
     "metadata": {},
     "output_type": "execute_result"
    }
   ],
   "source": [
    "DNA.count('A'),DNA.count('G'),DNA.count('AC'),DNA.count('AG'),DNA.count('AT'),DNA.count('ATG'),DNA.count('AA')"
   ]
  },
  {
   "cell_type": "code",
   "execution_count": 15,
   "metadata": {},
   "outputs": [
    {
     "name": "stdout",
     "output_type": "stream",
     "text": [
      "['m', 'o', 'n', 'p', 'p', 'p', 'o', 'm', 'm', 'o', 'm', 'm', 'm', 'n', 'n', 'm', 'q', 'm', 'o', 'q', 'p', 'q', 'n', 'p', 'q', 'n', 'n', 'n', 'm', 'q', 'n', 'o', 'p', 'p', 'm', 'p', 'p', 'm', 'm', 'q', 'q', 'q', 'm', 'n', 'm', 'p', 'o', 'n', 'n', 'q', 'm', 'n', 'o', 'p', 'n', 'm', 'q', 'p', 'q', 'n', 'm', 'q', 'q', 'q', 'q', 'p', 'p', 'p', 'm', 'n', 'm', 'q', 'o', 'o', 'o', 'm', 'q', 'p', 'n', 'q', 'o', 'n', 'm', 'q', 'm', 'q', 'n', 'q', 'o', 'p', 'q', 'm', 'n', 'q', 'n', 'q', 'o', 'q', 'n', 'm']\n"
     ]
    }
   ],
   "source": [
    "import random as rn\n",
    "A = [rn.choice(['m','n','o','p','q']) for k in range (100)]\n",
    "print(A)"
   ]
  },
  {
   "cell_type": "code",
   "execution_count": 18,
   "metadata": {},
   "outputs": [
    {
     "data": {
      "text/plain": [
       "(24, 0, 0)"
      ]
     },
     "execution_count": 18,
     "metadata": {},
     "output_type": "execute_result"
    }
   ],
   "source": [
    "A.count('m'),A.count('pp'),A.count('mm')"
   ]
  },
  {
   "cell_type": "code",
   "execution_count": 19,
   "metadata": {},
   "outputs": [
    {
     "data": {
      "text/plain": [
       "'monpppommommmnnmqmoqpqnpqnnnmqnoppmppmmqqqmnmponnqmnopnmqpqnmqqqqpppmnmqooomqpnqonmqmqnqopqmnqnqoqnm'"
      ]
     },
     "execution_count": 19,
     "metadata": {},
     "output_type": "execute_result"
    }
   ],
   "source": [
    "A = ''.join(A)\n",
    "A"
   ]
  },
  {
   "cell_type": "code",
   "execution_count": 21,
   "metadata": {},
   "outputs": [
    {
     "data": {
      "text/plain": [
       "(3, 2)"
      ]
     },
     "execution_count": 21,
     "metadata": {},
     "output_type": "execute_result"
    }
   ],
   "source": [
    "A.count('mm'),A.count('mp')"
   ]
  },
  {
   "cell_type": "markdown",
   "metadata": {},
   "source": [
    "## Tuples\n"
   ]
  },
  {
   "cell_type": "markdown",
   "metadata": {},
   "source": [
    "  - To define a tuple from acratch"
   ]
  },
  {
   "cell_type": "code",
   "execution_count": 2,
   "metadata": {},
   "outputs": [],
   "source": [
    "t = (1,2,3,4,5)"
   ]
  },
  {
   "cell_type": "markdown",
   "metadata": {},
   "source": [
    " - find type"
   ]
  },
  {
   "cell_type": "code",
   "execution_count": 19,
   "metadata": {},
   "outputs": [
    {
     "data": {
      "text/plain": [
       "tuple"
      ]
     },
     "execution_count": 19,
     "metadata": {},
     "output_type": "execute_result"
    }
   ],
   "source": [
    "type(t)"
   ]
  },
  {
   "cell_type": "code",
   "execution_count": 20,
   "metadata": {},
   "outputs": [],
   "source": [
    "s = (2,3,4,5,6,7,8)"
   ]
  },
  {
   "cell_type": "code",
   "execution_count": 21,
   "metadata": {},
   "outputs": [
    {
     "data": {
      "text/plain": [
       "tuple"
      ]
     },
     "execution_count": 21,
     "metadata": {},
     "output_type": "execute_result"
    }
   ],
   "source": [
    "type(s)"
   ]
  },
  {
   "cell_type": "markdown",
   "metadata": {},
   "source": [
    " - indexing"
   ]
  },
  {
   "cell_type": "code",
   "execution_count": 7,
   "metadata": {},
   "outputs": [
    {
     "data": {
      "text/plain": [
       "2"
      ]
     },
     "execution_count": 7,
     "metadata": {},
     "output_type": "execute_result"
    }
   ],
   "source": [
    "t[1]"
   ]
  },
  {
   "cell_type": "code",
   "execution_count": 8,
   "metadata": {},
   "outputs": [
    {
     "data": {
      "text/plain": [
       "3"
      ]
     },
     "execution_count": 8,
     "metadata": {},
     "output_type": "execute_result"
    }
   ],
   "source": [
    "s[1]"
   ]
  },
  {
   "cell_type": "code",
   "execution_count": 9,
   "metadata": {},
   "outputs": [],
   "source": [
    "L = [(1,2),(2,3),(3,4)]"
   ]
  },
  {
   "cell_type": "code",
   "execution_count": 10,
   "metadata": {},
   "outputs": [
    {
     "data": {
      "text/plain": [
       "1"
      ]
     },
     "execution_count": 10,
     "metadata": {},
     "output_type": "execute_result"
    }
   ],
   "source": [
    "L[0][0]"
   ]
  },
  {
   "cell_type": "code",
   "execution_count": 11,
   "metadata": {},
   "outputs": [
    {
     "data": {
      "text/plain": [
       "3"
      ]
     },
     "execution_count": 11,
     "metadata": {},
     "output_type": "execute_result"
    }
   ],
   "source": [
    "L[1][1]"
   ]
  },
  {
   "cell_type": "code",
   "execution_count": 14,
   "metadata": {},
   "outputs": [
    {
     "data": {
      "text/plain": [
       "2"
      ]
     },
     "execution_count": 14,
     "metadata": {},
     "output_type": "execute_result"
    }
   ],
   "source": [
    "L[1][0]"
   ]
  },
  {
   "cell_type": "code",
   "execution_count": 16,
   "metadata": {},
   "outputs": [
    {
     "ename": "IndexError",
     "evalue": "tuple index out of range",
     "output_type": "error",
     "traceback": [
      "\u001b[1;31m---------------------------------------------------------------------------\u001b[0m",
      "\u001b[1;31mIndexError\u001b[0m                                Traceback (most recent call last)",
      "\u001b[1;32m<ipython-input-16-833c47585fd5>\u001b[0m in \u001b[0;36m<module>\u001b[1;34m\u001b[0m\n\u001b[1;32m----> 1\u001b[1;33m \u001b[0mL\u001b[0m\u001b[1;33m[\u001b[0m\u001b[1;36m2\u001b[0m\u001b[1;33m]\u001b[0m\u001b[1;33m[\u001b[0m\u001b[1;36m2\u001b[0m\u001b[1;33m]\u001b[0m\u001b[1;33m\u001b[0m\u001b[1;33m\u001b[0m\u001b[0m\n\u001b[0m",
      "\u001b[1;31mIndexError\u001b[0m: tuple index out of range"
     ]
    }
   ],
   "source": [
    "L[2][2]"
   ]
  },
  {
   "cell_type": "markdown",
   "metadata": {},
   "source": [
    " - to create a list of tuples"
   ]
  },
  {
   "cell_type": "code",
   "execution_count": 18,
   "metadata": {},
   "outputs": [
    {
     "data": {
      "text/plain": [
       "[(1, 2), ('a', 'b'), (True, False)]"
      ]
     },
     "execution_count": 18,
     "metadata": {},
     "output_type": "execute_result"
    }
   ],
   "source": [
    "L = [(1,2),(\"a\",\"b\"),(True, False)]\n",
    "L"
   ]
  },
  {
   "cell_type": "markdown",
   "metadata": {},
   "source": [
    " - To initiate dictionary"
   ]
  },
  {
   "cell_type": "code",
   "execution_count": 10,
   "metadata": {},
   "outputs": [],
   "source": [
    "D = dict()\n",
    "DD = {}"
   ]
  },
  {
   "cell_type": "markdown",
   "metadata": {},
   "source": [
    " - create a dictinary from scratch"
   ]
  },
  {
   "cell_type": "code",
   "execution_count": 11,
   "metadata": {},
   "outputs": [],
   "source": [
    "D = {\"fruits\":'apple',\n",
    "    \"vegetable\":'carrot',\n",
    "    \"rice\":2.0,\n",
    "    'milk':10,}"
   ]
  },
  {
   "cell_type": "markdown",
   "metadata": {},
   "source": [
    " - what are keys?"
   ]
  },
  {
   "cell_type": "code",
   "execution_count": 12,
   "metadata": {},
   "outputs": [
    {
     "data": {
      "text/plain": [
       "dict_keys(['fruits', 'vegetable', 'rice', 'milk'])"
      ]
     },
     "execution_count": 12,
     "metadata": {},
     "output_type": "execute_result"
    }
   ],
   "source": [
    "D.keys()"
   ]
  },
  {
   "cell_type": "markdown",
   "metadata": {},
   "source": [
    " - what are values?"
   ]
  },
  {
   "cell_type": "code",
   "execution_count": 13,
   "metadata": {},
   "outputs": [
    {
     "data": {
      "text/plain": [
       "dict_values(['apple', 'carrot', 2.0, 10])"
      ]
     },
     "execution_count": 13,
     "metadata": {},
     "output_type": "execute_result"
    }
   ],
   "source": [
    "D.values()"
   ]
  },
  {
   "cell_type": "markdown",
   "metadata": {},
   "source": [
    " - indexing"
   ]
  },
  {
   "cell_type": "code",
   "execution_count": 14,
   "metadata": {},
   "outputs": [
    {
     "data": {
      "text/plain": [
       "('apple', 2.0)"
      ]
     },
     "execution_count": 14,
     "metadata": {},
     "output_type": "execute_result"
    }
   ],
   "source": [
    "D['fruits'], D[\"rice\"]"
   ]
  },
  {
   "cell_type": "markdown",
   "metadata": {},
   "source": [
    " - iteration over key and values"
   ]
  },
  {
   "cell_type": "code",
   "execution_count": 15,
   "metadata": {},
   "outputs": [
    {
     "name": "stdout",
     "output_type": "stream",
     "text": [
      "fruits apple\n",
      "vegetable carrot\n",
      "rice 2.0\n",
      "milk 10\n"
     ]
    }
   ],
   "source": [
    "for key, value in D.items():\n",
    "    print(key,value)"
   ]
  },
  {
   "cell_type": "markdown",
   "metadata": {},
   "source": [
    " - to update a dictionary"
   ]
  },
  {
   "cell_type": "code",
   "execution_count": 17,
   "metadata": {},
   "outputs": [
    {
     "data": {
      "text/plain": [
       "{'fruits': 'apple',\n",
       " 'vegetable': 'carrot',\n",
       " 'rice': 2.0,\n",
       " 'milk': 10,\n",
       " ':salt': 2.0}"
      ]
     },
     "execution_count": 17,
     "metadata": {},
     "output_type": "execute_result"
    }
   ],
   "source": [
    "D.update({\":salt\":2.0})\n",
    "D"
   ]
  },
  {
   "cell_type": "code",
   "execution_count": 21,
   "metadata": {},
   "outputs": [
    {
     "name": "stdout",
     "output_type": "stream",
     "text": [
      "{'fruits': 'apple', 'vegetable': 'carrot', 'rice': 2.0, 'milk': 10, ':salt': 2.0, 'salt': 3.0, 'water': 5.0}\n"
     ]
    }
   ],
   "source": [
    "D.update({'salt':3.0,'water':5.0})\n",
    "print (D)"
   ]
  },
  {
   "cell_type": "markdown",
   "metadata": {},
   "source": [
    " - to create a list from a dictionary"
   ]
  },
  {
   "cell_type": "code",
   "execution_count": 22,
   "metadata": {},
   "outputs": [
    {
     "data": {
      "text/plain": [
       "['fruits', 'vegetable', 'rice', 'milk', ':salt', 'salt', 'water']"
      ]
     },
     "execution_count": 22,
     "metadata": {},
     "output_type": "execute_result"
    }
   ],
   "source": [
    "list(D)"
   ]
  },
  {
   "cell_type": "markdown",
   "metadata": {},
   "source": [
    " - to create a list of keys only"
   ]
  },
  {
   "cell_type": "code",
   "execution_count": 23,
   "metadata": {},
   "outputs": [
    {
     "data": {
      "text/plain": [
       "['fruits', 'vegetable', 'rice', 'milk', ':salt', 'salt', 'water']"
      ]
     },
     "execution_count": 23,
     "metadata": {},
     "output_type": "execute_result"
    }
   ],
   "source": [
    "list(D.keys())"
   ]
  },
  {
   "cell_type": "markdown",
   "metadata": {},
   "source": [
    " - to create a list of values"
   ]
  },
  {
   "cell_type": "code",
   "execution_count": 24,
   "metadata": {},
   "outputs": [
    {
     "data": {
      "text/plain": [
       "['apple', 'carrot', 2.0, 10, 2.0, 3.0, 5.0]"
      ]
     },
     "execution_count": 24,
     "metadata": {},
     "output_type": "execute_result"
    }
   ],
   "source": [
    "list(D.values())"
   ]
  },
  {
   "cell_type": "markdown",
   "metadata": {},
   "source": [
    " - to create dictionary of with list, tuples and dictionary"
   ]
  },
  {
   "cell_type": "code",
   "execution_count": 25,
   "metadata": {},
   "outputs": [
    {
     "data": {
      "text/plain": [
       "{'names': ('john', 'Harry', 'Tej'),\n",
       " 'roll no': [1, 2, 3],\n",
       " 'plan': {'first': [12, 34, 56], 'second': [1, 3, 5]}}"
      ]
     },
     "execution_count": 25,
     "metadata": {},
     "output_type": "execute_result"
    }
   ],
   "source": [
    "DD = {\"names\":(\"john\",\"Harry\",\"Tej\"),\\\n",
    "     \"roll no\":[1,2,3],\\\n",
    "     \"plan\":{\"first\":[12,34,56],\"second\":[1,3,5]}}\n",
    "DD"
   ]
  },
  {
   "cell_type": "code",
   "execution_count": 29,
   "metadata": {},
   "outputs": [
    {
     "name": "stdout",
     "output_type": "stream",
     "text": [
      "[0.  0.1 0.2 0.3 0.4 0.5 0.6 0.7 0.8 0.9 1.  1.1 1.2 1.3 1.4 1.5 1.6 1.7\n",
      " 1.8 1.9 2.  2.1 2.2 2.3 2.4 2.5 2.6 2.7 2.8 2.9 3.  3.1]\n"
     ]
    }
   ],
   "source": [
    "import numpy as np\n",
    "x = np.arange(0,np.pi,0.1)\n",
    "print(x)"
   ]
  },
  {
   "cell_type": "code",
   "execution_count": 30,
   "metadata": {},
   "outputs": [],
   "source": [
    "import numpy as np\n",
    "X = np.arange(0,np.pi,0.1)\n",
    "M = {\"sin\":[np.sin(x) for x in X],\\\n",
    "    \"cos\": [np.cos(x) for x in X],\\\n",
    "    \"plo\": [(x*x+x+1) for x in X],\\\n",
    "    \"trig\": [np.cos(x) + np.sin(x) for x in X]}"
   ]
  },
  {
   "cell_type": "code",
   "execution_count": 31,
   "metadata": {},
   "outputs": [
    {
     "name": "stdout",
     "output_type": "stream",
     "text": [
      "{'sin': [0.0, 0.09983341664682815, 0.19866933079506122, 0.2955202066613396, 0.3894183423086505, 0.479425538604203, 0.5646424733950355, 0.6442176872376911, 0.7173560908995228, 0.7833269096274834, 0.8414709848078965, 0.8912073600614354, 0.9320390859672264, 0.963558185417193, 0.9854497299884603, 0.9974949866040544, 0.9995736030415051, 0.9916648104524686, 0.9738476308781951, 0.9463000876874145, 0.9092974268256817, 0.8632093666488737, 0.8084964038195901, 0.74570521217672, 0.6754631805511506, 0.5984721441039564, 0.5155013718214642, 0.4273798802338298, 0.33498815015590466, 0.23924932921398198, 0.1411200080598672, 0.04158066243329049], 'cos': [1.0, 0.9950041652780258, 0.9800665778412416, 0.955336489125606, 0.9210609940028851, 0.8775825618903728, 0.8253356149096782, 0.7648421872844884, 0.6967067093471654, 0.6216099682706644, 0.5403023058681398, 0.4535961214255773, 0.3623577544766734, 0.26749882862458735, 0.16996714290024081, 0.0707372016677029, -0.029199522301288815, -0.12884449429552486, -0.2272020946930871, -0.3232895668635036, -0.4161468365471424, -0.5048461045998576, -0.5885011172553458, -0.6662760212798244, -0.7373937155412458, -0.8011436155469337, -0.8568887533689473, -0.9040721420170612, -0.9422223406686583, -0.9709581651495907, -0.9899924966004454, -0.9991351502732795], 'plo': [1.0, 1.11, 1.24, 1.3900000000000001, 1.56, 1.75, 1.9600000000000002, 2.1900000000000004, 2.4400000000000004, 2.71, 3.0, 3.3100000000000005, 3.6400000000000006, 3.99, 4.36, 4.75, 5.16, 5.590000000000001, 6.04, 6.510000000000001, 7.0, 7.51, 8.040000000000001, 8.590000000000002, 9.160000000000002, 9.75, 10.360000000000001, 10.990000000000002, 11.640000000000002, 12.310000000000002, 13.0, 13.71], 'trig': [1.0, 1.094837581924854, 1.1787359086363027, 1.2508566957869456, 1.3104793363115357, 1.3570081004945758, 1.3899780883047137, 1.4090598745221796, 1.4140628002466882, 1.4049368778981477, 1.3817732906760363, 1.3448034814870127, 1.2943968404438997, 1.2310570140417803, 1.155416872888701, 1.0682321882717574, 0.9703740807402162, 0.8628203161569437, 0.7466455361851081, 0.623010520823911, 0.4931505902785393, 0.35836326204901614, 0.21999528656424427, 0.0794291908968956, -0.061930534990095154, -0.20267147144297726, -0.34138738154748316, -0.47669226178323143, -0.6072341905127536, -0.7317088359356086, -0.8488724885405782, -0.957554487839989]}\n"
     ]
    }
   ],
   "source": [
    "print(M)"
   ]
  },
  {
   "cell_type": "code",
   "execution_count": 32,
   "metadata": {},
   "outputs": [
    {
     "data": {
      "text/html": [
       "<div>\n",
       "<style scoped>\n",
       "    .dataframe tbody tr th:only-of-type {\n",
       "        vertical-align: middle;\n",
       "    }\n",
       "\n",
       "    .dataframe tbody tr th {\n",
       "        vertical-align: top;\n",
       "    }\n",
       "\n",
       "    .dataframe thead th {\n",
       "        text-align: right;\n",
       "    }\n",
       "</style>\n",
       "<table border=\"1\" class=\"dataframe\">\n",
       "  <thead>\n",
       "    <tr style=\"text-align: right;\">\n",
       "      <th></th>\n",
       "      <th>sin</th>\n",
       "      <th>cos</th>\n",
       "      <th>plo</th>\n",
       "      <th>trig</th>\n",
       "    </tr>\n",
       "  </thead>\n",
       "  <tbody>\n",
       "    <tr>\n",
       "      <th>0</th>\n",
       "      <td>0.000000</td>\n",
       "      <td>1.000000</td>\n",
       "      <td>1.00</td>\n",
       "      <td>1.000000</td>\n",
       "    </tr>\n",
       "    <tr>\n",
       "      <th>1</th>\n",
       "      <td>0.099833</td>\n",
       "      <td>0.995004</td>\n",
       "      <td>1.11</td>\n",
       "      <td>1.094838</td>\n",
       "    </tr>\n",
       "    <tr>\n",
       "      <th>2</th>\n",
       "      <td>0.198669</td>\n",
       "      <td>0.980067</td>\n",
       "      <td>1.24</td>\n",
       "      <td>1.178736</td>\n",
       "    </tr>\n",
       "    <tr>\n",
       "      <th>3</th>\n",
       "      <td>0.295520</td>\n",
       "      <td>0.955336</td>\n",
       "      <td>1.39</td>\n",
       "      <td>1.250857</td>\n",
       "    </tr>\n",
       "    <tr>\n",
       "      <th>4</th>\n",
       "      <td>0.389418</td>\n",
       "      <td>0.921061</td>\n",
       "      <td>1.56</td>\n",
       "      <td>1.310479</td>\n",
       "    </tr>\n",
       "    <tr>\n",
       "      <th>5</th>\n",
       "      <td>0.479426</td>\n",
       "      <td>0.877583</td>\n",
       "      <td>1.75</td>\n",
       "      <td>1.357008</td>\n",
       "    </tr>\n",
       "    <tr>\n",
       "      <th>6</th>\n",
       "      <td>0.564642</td>\n",
       "      <td>0.825336</td>\n",
       "      <td>1.96</td>\n",
       "      <td>1.389978</td>\n",
       "    </tr>\n",
       "    <tr>\n",
       "      <th>7</th>\n",
       "      <td>0.644218</td>\n",
       "      <td>0.764842</td>\n",
       "      <td>2.19</td>\n",
       "      <td>1.409060</td>\n",
       "    </tr>\n",
       "    <tr>\n",
       "      <th>8</th>\n",
       "      <td>0.717356</td>\n",
       "      <td>0.696707</td>\n",
       "      <td>2.44</td>\n",
       "      <td>1.414063</td>\n",
       "    </tr>\n",
       "    <tr>\n",
       "      <th>9</th>\n",
       "      <td>0.783327</td>\n",
       "      <td>0.621610</td>\n",
       "      <td>2.71</td>\n",
       "      <td>1.404937</td>\n",
       "    </tr>\n",
       "    <tr>\n",
       "      <th>10</th>\n",
       "      <td>0.841471</td>\n",
       "      <td>0.540302</td>\n",
       "      <td>3.00</td>\n",
       "      <td>1.381773</td>\n",
       "    </tr>\n",
       "    <tr>\n",
       "      <th>11</th>\n",
       "      <td>0.891207</td>\n",
       "      <td>0.453596</td>\n",
       "      <td>3.31</td>\n",
       "      <td>1.344803</td>\n",
       "    </tr>\n",
       "    <tr>\n",
       "      <th>12</th>\n",
       "      <td>0.932039</td>\n",
       "      <td>0.362358</td>\n",
       "      <td>3.64</td>\n",
       "      <td>1.294397</td>\n",
       "    </tr>\n",
       "    <tr>\n",
       "      <th>13</th>\n",
       "      <td>0.963558</td>\n",
       "      <td>0.267499</td>\n",
       "      <td>3.99</td>\n",
       "      <td>1.231057</td>\n",
       "    </tr>\n",
       "    <tr>\n",
       "      <th>14</th>\n",
       "      <td>0.985450</td>\n",
       "      <td>0.169967</td>\n",
       "      <td>4.36</td>\n",
       "      <td>1.155417</td>\n",
       "    </tr>\n",
       "    <tr>\n",
       "      <th>15</th>\n",
       "      <td>0.997495</td>\n",
       "      <td>0.070737</td>\n",
       "      <td>4.75</td>\n",
       "      <td>1.068232</td>\n",
       "    </tr>\n",
       "    <tr>\n",
       "      <th>16</th>\n",
       "      <td>0.999574</td>\n",
       "      <td>-0.029200</td>\n",
       "      <td>5.16</td>\n",
       "      <td>0.970374</td>\n",
       "    </tr>\n",
       "    <tr>\n",
       "      <th>17</th>\n",
       "      <td>0.991665</td>\n",
       "      <td>-0.128844</td>\n",
       "      <td>5.59</td>\n",
       "      <td>0.862820</td>\n",
       "    </tr>\n",
       "    <tr>\n",
       "      <th>18</th>\n",
       "      <td>0.973848</td>\n",
       "      <td>-0.227202</td>\n",
       "      <td>6.04</td>\n",
       "      <td>0.746646</td>\n",
       "    </tr>\n",
       "    <tr>\n",
       "      <th>19</th>\n",
       "      <td>0.946300</td>\n",
       "      <td>-0.323290</td>\n",
       "      <td>6.51</td>\n",
       "      <td>0.623011</td>\n",
       "    </tr>\n",
       "    <tr>\n",
       "      <th>20</th>\n",
       "      <td>0.909297</td>\n",
       "      <td>-0.416147</td>\n",
       "      <td>7.00</td>\n",
       "      <td>0.493151</td>\n",
       "    </tr>\n",
       "    <tr>\n",
       "      <th>21</th>\n",
       "      <td>0.863209</td>\n",
       "      <td>-0.504846</td>\n",
       "      <td>7.51</td>\n",
       "      <td>0.358363</td>\n",
       "    </tr>\n",
       "    <tr>\n",
       "      <th>22</th>\n",
       "      <td>0.808496</td>\n",
       "      <td>-0.588501</td>\n",
       "      <td>8.04</td>\n",
       "      <td>0.219995</td>\n",
       "    </tr>\n",
       "    <tr>\n",
       "      <th>23</th>\n",
       "      <td>0.745705</td>\n",
       "      <td>-0.666276</td>\n",
       "      <td>8.59</td>\n",
       "      <td>0.079429</td>\n",
       "    </tr>\n",
       "    <tr>\n",
       "      <th>24</th>\n",
       "      <td>0.675463</td>\n",
       "      <td>-0.737394</td>\n",
       "      <td>9.16</td>\n",
       "      <td>-0.061931</td>\n",
       "    </tr>\n",
       "    <tr>\n",
       "      <th>25</th>\n",
       "      <td>0.598472</td>\n",
       "      <td>-0.801144</td>\n",
       "      <td>9.75</td>\n",
       "      <td>-0.202671</td>\n",
       "    </tr>\n",
       "    <tr>\n",
       "      <th>26</th>\n",
       "      <td>0.515501</td>\n",
       "      <td>-0.856889</td>\n",
       "      <td>10.36</td>\n",
       "      <td>-0.341387</td>\n",
       "    </tr>\n",
       "    <tr>\n",
       "      <th>27</th>\n",
       "      <td>0.427380</td>\n",
       "      <td>-0.904072</td>\n",
       "      <td>10.99</td>\n",
       "      <td>-0.476692</td>\n",
       "    </tr>\n",
       "    <tr>\n",
       "      <th>28</th>\n",
       "      <td>0.334988</td>\n",
       "      <td>-0.942222</td>\n",
       "      <td>11.64</td>\n",
       "      <td>-0.607234</td>\n",
       "    </tr>\n",
       "    <tr>\n",
       "      <th>29</th>\n",
       "      <td>0.239249</td>\n",
       "      <td>-0.970958</td>\n",
       "      <td>12.31</td>\n",
       "      <td>-0.731709</td>\n",
       "    </tr>\n",
       "    <tr>\n",
       "      <th>30</th>\n",
       "      <td>0.141120</td>\n",
       "      <td>-0.989992</td>\n",
       "      <td>13.00</td>\n",
       "      <td>-0.848872</td>\n",
       "    </tr>\n",
       "    <tr>\n",
       "      <th>31</th>\n",
       "      <td>0.041581</td>\n",
       "      <td>-0.999135</td>\n",
       "      <td>13.71</td>\n",
       "      <td>-0.957554</td>\n",
       "    </tr>\n",
       "  </tbody>\n",
       "</table>\n",
       "</div>"
      ],
      "text/plain": [
       "         sin       cos    plo      trig\n",
       "0   0.000000  1.000000   1.00  1.000000\n",
       "1   0.099833  0.995004   1.11  1.094838\n",
       "2   0.198669  0.980067   1.24  1.178736\n",
       "3   0.295520  0.955336   1.39  1.250857\n",
       "4   0.389418  0.921061   1.56  1.310479\n",
       "5   0.479426  0.877583   1.75  1.357008\n",
       "6   0.564642  0.825336   1.96  1.389978\n",
       "7   0.644218  0.764842   2.19  1.409060\n",
       "8   0.717356  0.696707   2.44  1.414063\n",
       "9   0.783327  0.621610   2.71  1.404937\n",
       "10  0.841471  0.540302   3.00  1.381773\n",
       "11  0.891207  0.453596   3.31  1.344803\n",
       "12  0.932039  0.362358   3.64  1.294397\n",
       "13  0.963558  0.267499   3.99  1.231057\n",
       "14  0.985450  0.169967   4.36  1.155417\n",
       "15  0.997495  0.070737   4.75  1.068232\n",
       "16  0.999574 -0.029200   5.16  0.970374\n",
       "17  0.991665 -0.128844   5.59  0.862820\n",
       "18  0.973848 -0.227202   6.04  0.746646\n",
       "19  0.946300 -0.323290   6.51  0.623011\n",
       "20  0.909297 -0.416147   7.00  0.493151\n",
       "21  0.863209 -0.504846   7.51  0.358363\n",
       "22  0.808496 -0.588501   8.04  0.219995\n",
       "23  0.745705 -0.666276   8.59  0.079429\n",
       "24  0.675463 -0.737394   9.16 -0.061931\n",
       "25  0.598472 -0.801144   9.75 -0.202671\n",
       "26  0.515501 -0.856889  10.36 -0.341387\n",
       "27  0.427380 -0.904072  10.99 -0.476692\n",
       "28  0.334988 -0.942222  11.64 -0.607234\n",
       "29  0.239249 -0.970958  12.31 -0.731709\n",
       "30  0.141120 -0.989992  13.00 -0.848872\n",
       "31  0.041581 -0.999135  13.71 -0.957554"
      ]
     },
     "execution_count": 32,
     "metadata": {},
     "output_type": "execute_result"
    }
   ],
   "source": [
    "import pandas as pd\n",
    "DF = pd.DataFrame(M)\n",
    "DF"
   ]
  },
  {
   "cell_type": "code",
   "execution_count": 33,
   "metadata": {},
   "outputs": [
    {
     "data": {
      "text/plain": [
       "<matplotlib.axes._subplots.AxesSubplot at 0x165e4bc7b08>"
      ]
     },
     "execution_count": 33,
     "metadata": {},
     "output_type": "execute_result"
    },
    {
     "data": {
      "image/png": "[encoded data removed]",
      "text/plain": [
       "<Figure size 432x288 with 1 Axes>"
      ]
     },
     "metadata": {
      "needs_background": "light"
     },
     "output_type": "display_data"
    }
   ],
   "source": [
    "%matplotlib inline\n",
    "DF.plot()"
   ]
  },
  {
   "cell_type": "code",
   "execution_count": null,
   "metadata": {},
   "outputs": [],
   "source": []
  }
 ],
 "metadata": {
  "kernelspec": {
   "display_name": "Python 3",
   "language": "python",
   "name": "python3"
  },
  "language_info": {
   "codemirror_mode": {
    "name": "ipython",
    "version": 3
   },
   "file_extension": ".py",
   "mimetype": "text/x-python",
   "name": "python",
   "nbconvert_exporter": "python",
   "pygments_lexer": "ipython3",
   "version": "3.7.6"
  }
 },
 "nbformat": 4,
 "nbformat_minor": 4
}
