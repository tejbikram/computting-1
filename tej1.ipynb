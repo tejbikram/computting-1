{
 "cells": [
  {
   "cell_type": "code",
   "execution_count": 1,
   "metadata": {},
   "outputs": [
    {
     "name": "stdout",
     "output_type": "stream",
     "text": [
      "Nepal Physical society\n"
     ]
    }
   ],
   "source": [
    "print ('Nepal Physical society')"
   ]
  },
  {
   "cell_type": "markdown",
   "metadata": {},
   "source": [
    "![img](https://nps.org.np/wp-content/uploads/2020/06/final-scaled.jpg)"
   ]
  },
  {
   "cell_type": "markdown",
   "metadata": {},
   "source": [
    "# some symbols\n",
    "$\\alpha$\n",
    "$\\beta$\n",
    "$\\gamma$\n",
    "$\\theta$\n",
    "$\\pi$\n",
    "$\\Pi$\n",
    "$\\gamma$\n",
    "$\\Gamma$"
   ]
  },
  {
   "cell_type": "markdown",
   "metadata": {},
   "source": [
    "# some polynomials\n",
    "$x^y$, \n",
    "$X_Y$, \n",
    "$x_y$, \n",
    "$x_y^z$,\n",
    "$\\frac{a}{b}$,\n",
    "$\\frac{a}{b}{c}$,\n",
    "$\\frac{x^2}{y^2}$,\n",
    "$x+y$,\n",
    "$x^2+y^2$,\n",
    "$ax^2+2ab+b^2$,\n",
    "$x=\\frac{-b\\pm\\sqrt{b^2-4ac}}{2a}$\n"
   ]
  },
  {
   "cell_type": "markdown",
   "metadata": {},
   "source": [
    "$\\frac{\\partial^2\\phi}{\\partial t^2}$"
   ]
  },
  {
   "cell_type": "markdown",
   "metadata": {},
   "source": [
    "$\\frac{dy}{dx}$"
   ]
  },
  {
   "cell_type": "markdown",
   "metadata": {},
   "source": [
    "# How to insert image in jupyter notbook\n",
    "## Image of NPS logo\n",
    "![img](logo.jpg)\n",
    "## Image of TU logo\n",
    "![img](tulogo.jpg)"
   ]
  },
  {
   "cell_type": "code",
   "execution_count": null,
   "metadata": {},
   "outputs": [],
   "source": []
  }
 ],
 "metadata": {
  "kernelspec": {
   "display_name": "Python 3",
   "language": "python",
   "name": "python3"
  },
  "language_info": {
   "codemirror_mode": {
    "name": "ipython",
    "version": 3
   },
   "file_extension": ".py",
   "mimetype": "text/x-python",
   "name": "python",
   "nbconvert_exporter": "python",
   "pygments_lexer": "ipython3",
   "version": "3.7.6"
  }
 },
 "nbformat": 4,
 "nbformat_minor": 4
}
